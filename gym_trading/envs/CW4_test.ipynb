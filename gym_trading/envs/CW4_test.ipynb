{
 "cells": [
  {
   "cell_type": "code",
   "execution_count": 13,
   "metadata": {},
   "outputs": [
    {
     "name": "stderr",
     "output_type": "stream",
     "text": [
      "INFO:policy_gradient:policy_gradient logger started.\n"
     ]
    },
    {
     "data": {
      "text/plain": [
       "<module 'policy_gradient' from '/Users/andrewplaate/mlp3/gym_trading/envs/policy_gradient.py'>"
      ]
     },
     "execution_count": 13,
     "metadata": {},
     "output_type": "execute_result"
    }
   ],
   "source": [
    "from importlib import reload\n",
    "import policy_gradient\n",
    "reload(policy_gradient)\n",
    "\n",
    "#reload(trading_env)"
   ]
  },
  {
   "cell_type": "code",
   "execution_count": null,
   "metadata": {
    "scrolled": false
   },
   "outputs": [
    {
     "name": "stdout",
     "output_type": "stream",
     "text": [
      "\u001b[33mWARN: gym.spaces.Box autodetected dtype as <class 'numpy.float32'>. Please provide explicit dtype.\u001b[0m\n",
      "\u001b[33mWARN: gym.spaces.Box autodetected dtype as <class 'numpy.float32'>. Please provide explicit dtype.\u001b[0m\n",
      "/Users/andrewplaate/mlp3/SavedModels/RNN_GD_lrelu_l2/model.ckpt-2\n",
      "INFO:tensorflow:Restoring parameters from /Users/andrewplaate/mlp3/SavedModels/RNN_GD_lrelu_l2/model.ckpt-2\n"
     ]
    },
    {
     "name": "stderr",
     "output_type": "stream",
     "text": [
      "INFO:tensorflow:Restoring parameters from /Users/andrewplaate/mlp3/SavedModels/RNN_GD_lrelu_l2/model.ckpt-2\n"
     ]
    },
    {
     "name": "stdout",
     "output_type": "stream",
     "text": [
      "Model restored from  /Users/andrewplaate/mlp3/SavedModels/RNN_GD_lrelu_l2/model.ckpt-2\n",
      "> /Users/andrewplaate/mlp3/gym_trading/envs/policy_gradient.py(556)test_model()\n",
      "-> aprob, std=PolicyGradient.GaussianNoise(aprob,Returns)\n",
      "(Pdb) aprob\n",
      "array([[-1.,  0.,  0.,  0., -0.,  0.,  0.,  0., -0., -0.]], dtype=float32)\n"
     ]
    }
   ],
   "source": [
    "import gym\n",
    "import numpy as np\n",
    "import pandas as pd\n",
    "import matplotlib as mpl\n",
    "import matplotlib.pyplot as plt\n",
    "from matplotlib import interactive\n",
    "interactive(True)\n",
    "import gym_trading\n",
    "\n",
    "env = gym.make('testing-v0')\n",
    "#env.time_cost_bps = 0 # \n",
    "\n",
    "env = env.unwrapped\n",
    "\n",
    "\n",
    "\n",
    "import tensorflow as tf\n",
    "import policy_gradient\n",
    "\n",
    "\n",
    "# create the tf session\n",
    "\n",
    "\n",
    "num_actions=10  # same as # of stocks\n",
    "Variables=3\n",
    "obs_dim=num_actions*Variables\n",
    "NumOfHiddLayers=2\n",
    "architecture = \"LSTM\" # right now, valid inputs are LSTM and FFNN\n",
    "LR=\"GD\"\n",
    "actFunc=\"relu\"\n",
    "regulizer=\"l2\"\n",
    "regulizerScale=0.0001\n",
    "#avgfilename=\"/home/s1793158/mlp3/FILE_Name.p\"\n",
    "\n",
    "actFuncs=[\"lrelu\"]\n",
    "name=[\"RNN_GD_lrelu_l2\"]#[\"RNN_GD_relu_l2\",\"RNN_GD_elu_l2\",\"RNN_GD_lrelu_l2\",\"RNN_GD_selu_l2\",\"RNN_GD_sig_l2\"]\n",
    "   # from tensorflow.python.framework import ops\n",
    "    #ops.reset.default_graph()\n",
    "\n",
    "for i in range(1):\n",
    "        tf.reset_default_graph()\n",
    "        sess = tf.InteractiveSession()\n",
    "\n",
    "    #avgfilename=\"/afs/inf.ed.ac.uk/user/s17/s1793158/mlp3/Saving/\"+name[i]+\".p\"\n",
    "    #Modelfilename=\"/afs/inf.ed.ac.uk/user/s17/s1793158/mlp3/SavedModels/\"+name[i]\n",
    "\n",
    "        avgfilename=\"/Users/andrewplaate/mlp3/SavingTest/\"+\"Test_\"+name[i]+\".p\"\n",
    "        direc=\"/Users/andrewplaate/mlp3/SavedModels/RNN_GD_lrelu_l2/\"\n",
    "        sess = tf.InteractiveSession()\n",
    "\n",
    "\n",
    " \n",
    "        pg = policy_gradient.PolicyGradient(sess, obs_dim=obs_dim, \n",
    "                                            num_actions=num_actions,\n",
    "                                            NumOfLayers=NumOfHiddLayers, \n",
    "                                            Num_Of_variables=Variables,\n",
    "                                            LR=LR,\n",
    "                                            architecture=architecture,\n",
    "                                            actFunc=actFuncs[i],\n",
    "                                            learning_rate=1e-4,\n",
    "                                            regulizer =regulizer,\n",
    "                                            regulizerScale=regulizerScale,\n",
    "                                            avgfilename=avgfilename,\n",
    "                                            Modelfilename=\"\",\n",
    "                                            num_hiddenRNN=24,\n",
    "                                            DropoutMemoryStates= True,\n",
    "                                            DropoutVariational_recurrent=True,\n",
    "                                            output_keep_prob=0.8,\n",
    "                                            state_keep_prob=0.8\n",
    "                                           )\n",
    "\n",
    "        # and now let's train it and evaluate its progress.  NB: this could take some time...\n",
    "\n",
    "        load_model=True\n",
    "\n",
    "        df,sf = pg.test_model(env, episodes=2, log_freq=1, load_model=load_model,model_dir = direc)#, load_model=True)\n",
    "        sess.close()"
   ]
  },
  {
   "cell_type": "code",
   "execution_count": 2,
   "metadata": {
    "collapsed": true
   },
   "outputs": [],
   "source": [
    "import pickle as pkl\n",
    "loca=\"/Users/andrewplaate/mlp3/SavingTest/\"\n",
    "\n",
    "adam3 = pkl.load( open( loca+\"Test_RNN_GD_elu4_l2.p\", \"rb\" ) )"
   ]
  },
  {
   "cell_type": "code",
   "execution_count": 3,
   "metadata": {},
   "outputs": [
    {
     "data": {
      "text/plain": [
       "array([[ 5.50928986, -1.20258579],\n",
       "       [ 0.02389471, -0.23430111]])"
      ]
     },
     "execution_count": 3,
     "metadata": {},
     "output_type": "execute_result"
    }
   ],
   "source": [
    "adam3"
   ]
  }
 ],
 "metadata": {
  "kernelspec": {
   "display_name": "Python 3",
   "language": "python",
   "name": "python3"
  },
  "language_info": {
   "codemirror_mode": {
    "name": "ipython",
    "version": 3
   },
   "file_extension": ".py",
   "mimetype": "text/x-python",
   "name": "python",
   "nbconvert_exporter": "python",
   "pygments_lexer": "ipython3",
   "version": "3.6.2"
  }
 },
 "nbformat": 4,
 "nbformat_minor": 2
}
