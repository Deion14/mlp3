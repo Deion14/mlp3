{
 "cells": [
  {
   "cell_type": "code",
   "execution_count": 1,
   "metadata": {
    "scrolled": true
   },
   "outputs": [
    {
     "name": "stdout",
     "output_type": "stream",
     "text": [
      "\u001b[33mWARN: gym.spaces.Box autodetected dtype as <class 'numpy.float32'>. Please provide explicit dtype.\u001b[0m\n",
      "\u001b[33mWARN: gym.spaces.Box autodetected dtype as <class 'numpy.float32'>. Please provide explicit dtype.\u001b[0m\n",
      "\u001b[33mWARN: Environment '<class 'gym_trading.envs.trading_env.TradingEnv'>' has deprecated methods. Compatibility code invoked.\u001b[0m\n"
     ]
    },
    {
     "name": "stderr",
     "output_type": "stream",
     "text": [
      "/afs/inf.ed.ac.uk/user/s17/s1793158/miniconda3/envs/mlp/lib/python3.6/importlib/_bootstrap.py:205: RuntimeWarning: compiletime version 3.5 of module 'tensorflow.python.framework.fast_tensor_util' does not match runtime version 3.6\n",
      "  return f(*args, **kwds)\n",
      "INFO:policy_gradient:policy_gradient logger started.\n",
      "INFO:policy_gradient:year #     0, mean reward:  -1.0478, sim ret:   0.0000, mkt ret:   0.0000, net:   0.0000\n"
     ]
    },
    {
     "name": "stdout",
     "output_type": "stream",
     "text": [
      "0.6863319873809814\n",
      "0.6520347595214844\n",
      "0.6503760814666748\n",
      "0.6568338871002197\n",
      "0.6362721920013428\n"
     ]
    },
    {
     "name": "stderr",
     "output_type": "stream",
     "text": [
      "INFO:policy_gradient:year #     0, mean reward:  -2.2363, sim ret:   0.0000, mkt ret:   0.0000, net:   0.0000\n"
     ]
    },
    {
     "name": "stdout",
     "output_type": "stream",
     "text": [
      "0.6140873432159424\n",
      "0.6681315898895264\n",
      "0.6311016082763672\n",
      "0.6237483024597168\n",
      "0.6468949317932129\n"
     ]
    },
    {
     "name": "stderr",
     "output_type": "stream",
     "text": [
      "INFO:policy_gradient:year #     0, mean reward:  -0.5643, sim ret:   0.0000, mkt ret:   0.0000, net:   0.0000\n"
     ]
    },
    {
     "name": "stdout",
     "output_type": "stream",
     "text": [
      "0.6804535388946533\n",
      "0.6543622016906738\n",
      "0.6233425140380859\n",
      "0.6372027397155762\n",
      "0.6183285713195801\n"
     ]
    },
    {
     "name": "stderr",
     "output_type": "stream",
     "text": [
      "INFO:policy_gradient:year #     0, mean reward:   0.5679, sim ret:   0.0000, mkt ret:   0.0000, net:   0.0000\n"
     ]
    },
    {
     "name": "stdout",
     "output_type": "stream",
     "text": [
      "0.6139681339263916\n",
      "0.664555549621582\n",
      "0.6218161582946777\n",
      "0.6748666763305664\n",
      "0.6198511123657227\n"
     ]
    },
    {
     "name": "stderr",
     "output_type": "stream",
     "text": [
      "INFO:policy_gradient:year #     0, mean reward:  -0.1246, sim ret:   0.0000, mkt ret:   0.0000, net:   0.0000\n"
     ]
    },
    {
     "name": "stdout",
     "output_type": "stream",
     "text": [
      "0.7114236354827881\n",
      "0.6484150886535645\n",
      "0.6083433628082275\n",
      "0.6235654354095459\n",
      "0.6297581195831299\n"
     ]
    }
   ],
   "source": [
    "import gym\n",
    "import numpy as np\n",
    "import pandas as pd\n",
    "import matplotlib as mpl\n",
    "import matplotlib.pyplot as plt\n",
    "from matplotlib import interactive\n",
    "interactive(True)\n",
    "import gym_trading\n",
    "\n",
    "env = gym.make('trading-v0')\n",
    "#env.time_cost_bps = 0 # \n",
    "\n",
    "env = env.unwrapped\n",
    "\n",
    "\n",
    "\n",
    "import tensorflow as tf\n",
    "import policy_gradient\n",
    "\n",
    "\n",
    "# create the tf session\n",
    "sess = tf.InteractiveSession()\n",
    "\n",
    "# Input\n",
    "num_actions=10  # same as # of stocks\n",
    "Variables=3\n",
    "obs_dim=num_actions*Variables\n",
    "NumOfLayers=2\n",
    "architecture = \"LSTM\" # right now, valid inputs are LSTM and FFNN\n",
    "LR=\"GD\"\n",
    "actFunc=\"relu\"\n",
    "regulizer=\"l2\"\n",
    "regulizerScale=0.0001\n",
    "#avgfilename=\"/home/s1793158/mlp3/FILE_Name.p\"\n",
    "\n",
    "actFuncs=[\"relu\",\"elu\",\"lrelu\",\"selu\",\"sigmoid\"]\n",
    "name=[\"RNN_GD_relu_l2\",\"RNN_GD_elu_l2\",\"RNN_GD_lrelu_l2\",\"RNN_GD_selu_l2\",\"RNN_GD_sig_l2\"]\n",
    "   # from tensorflow.python.framework import ops\n",
    "    #ops.reset.default_graph()\n",
    "\n",
    "for i in range(5):\n",
    "    tf.reset_default_graph()\n",
    "    sess = tf.InteractiveSession()\n",
    "    \n",
    "    avgfilename=\"/afs/inf.ed.ac.uk/user/s17/s1793158/mlp3/Saving/\"+name[i]+\".p\"\n",
    "    Modelfilename=\"/afs/inf.ed.ac.uk/user/s17/s1793158/mlp3/SavedModels/\"+name[i]\n",
    "    \n",
    "    \n",
    "    pg = policy_gradient.PolicyGradient(sess, obs_dim=obs_dim, \n",
    "                                        num_actions=num_actions,\n",
    "                                        NumOfLayers=NumOfLayers, \n",
    "                                        LR=LR,\n",
    "                                        architecture=architecture,\n",
    "                                        actFunc=actFuncs[i],\n",
    "                                        learning_rate=1e-4,\n",
    "                                        regulizer =regulizer,\n",
    "                                        regulizerScale=regulizerScale,\n",
    "                                        avgfilename=avgfilename,\n",
    "                                        Modelfilename=Modelfilename\n",
    "                                       )\n",
    "\n",
    "    # and now let's train it and evaluate its progress.  NB: this could take some time...\n",
    "    direc=\"aa\"\n",
    "    load_model=False\n",
    "    #grads, grads_clipped = pg.get_grads_and_clipping()\n",
    "    '''with tf.Session() as sess:\n",
    "    sess.run(init)  # actually running the initialization op\n",
    "    _grads_clipped, _grads = sess.run(\n",
    "                        [grads_clipped, grads],\n",
    "                        feed_dict={pg.X: epX, pg._tf_epr: epr, pg._tf_y: epy, pg._tf_x: epx})'''\n",
    "    df,sf = pg.train_model(env, episodes=5, log_freq=100, load_model=False,model_dir = direc)#, load_model=True)"
   ]
  },
  {
   "cell_type": "code",
   "execution_count": 3,
   "metadata": {},
   "outputs": [
    {
     "data": {
      "text/plain": [
       "array([[-0.12460705,  1.25939138, -0.05609649,  0.56556583, -1.25459589],\n",
       "       [ 0.00534444,  0.00841207, -0.00263487, -0.01434419,  0.00502884]])"
      ]
     },
     "execution_count": 3,
     "metadata": {},
     "output_type": "execute_result"
    }
   ],
   "source": [
    "import pickle as pkl\n",
    "loca=\"/afs/inf.ed.ac.uk/user/s17/s1793158/mlp3/Saving/\"\n",
    "\n",
    "relu = pkl.load( open( loca+\"RNN_GD_relu_l2.p\", \"rb\" ) )\n",
    "elu = pkl.load( open( loca+\"RNN_GD_elu_l2.p\", \"rb\" ) )\n",
    "sig = pkl.load( open( loca+\"RNN_GD_sig_l2.p\", \"rb\" ) )\n",
    "sig"
   ]
  }
 ],
 "metadata": {
  "kernelspec": {
   "display_name": "Python 3",
   "language": "python",
   "name": "python3"
  },
  "language_info": {
   "codemirror_mode": {
    "name": "ipython",
    "version": 3
   },
   "file_extension": ".py",
   "mimetype": "text/x-python",
   "name": "python",
   "nbconvert_exporter": "python",
   "pygments_lexer": "ipython3",
   "version": "3.6.2"
  }
 },
 "nbformat": 4,
 "nbformat_minor": 2
}
