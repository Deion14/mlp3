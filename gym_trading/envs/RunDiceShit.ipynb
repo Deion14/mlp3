{
 "cells": [
  {
   "cell_type": "code",
   "execution_count": null,
   "metadata": {
    "scrolled": true
   },
   "outputs": [
    {
     "name": "stdout",
     "output_type": "stream",
     "text": [
      "\u001b[33mWARN: gym.spaces.Box autodetected dtype as <class 'numpy.float32'>. Please provide explicit dtype.\u001b[0m\n",
      "\u001b[33mWARN: gym.spaces.Box autodetected dtype as <class 'numpy.float32'>. Please provide explicit dtype.\u001b[0m\n",
      "\u001b[33mWARN: Environment '<class 'gym_trading.envs.trading_env.TradingEnv'>' has deprecated methods. Compatibility code invoked.\u001b[0m\n"
     ]
    },
    {
     "name": "stderr",
     "output_type": "stream",
     "text": [
      "/Users/colinsmith/miniconda3/envs/personal/lib/python3.6/importlib/_bootstrap.py:219: RuntimeWarning: compiletime version 3.5 of module 'tensorflow.python.framework.fast_tensor_util' does not match runtime version 3.6\n",
      "  return f(*args, **kwds)\n",
      "INFO:policy_gradient:policy_gradient logger started.\n",
      "INFO:policy_gradient:year #     0, mean reward:  -0.2509, sim ret:   0.0000, mkt ret:   0.0000, net:   0.0000\n"
     ]
    },
    {
     "name": "stdout",
     "output_type": "stream",
     "text": [
      "2.4418728351593018\n"
     ]
    },
    {
     "name": "stderr",
     "output_type": "stream",
     "text": [
      "INFO:policy_gradient:year #     1, mean reward:   1.6412, sim ret:   0.0000, mkt ret:   0.0000, net:   0.0000\n"
     ]
    },
    {
     "name": "stdout",
     "output_type": "stream",
     "text": [
      "2.3365390300750732\n"
     ]
    },
    {
     "name": "stderr",
     "output_type": "stream",
     "text": [
      "INFO:policy_gradient:year #     2, mean reward:  -1.0593, sim ret:   0.0000, mkt ret:   0.0000, net:   0.0000\n"
     ]
    },
    {
     "name": "stdout",
     "output_type": "stream",
     "text": [
      "2.330526828765869\n"
     ]
    },
    {
     "name": "stderr",
     "output_type": "stream",
     "text": [
      "INFO:policy_gradient:year #     3, mean reward:   1.6158, sim ret:   0.0000, mkt ret:   0.0000, net:   0.0000\n"
     ]
    },
    {
     "name": "stdout",
     "output_type": "stream",
     "text": [
      "2.3172309398651123\n"
     ]
    },
    {
     "name": "stderr",
     "output_type": "stream",
     "text": [
      "INFO:policy_gradient:year #     4, mean reward:   1.0204, sim ret:   0.0000, mkt ret:   0.0000, net:   0.0000\n"
     ]
    },
    {
     "name": "stdout",
     "output_type": "stream",
     "text": [
      "2.485978841781616\n"
     ]
    },
    {
     "name": "stderr",
     "output_type": "stream",
     "text": [
      "INFO:policy_gradient:year #     5, mean reward:  -1.8077, sim ret:   0.0000, mkt ret:   0.0000, net:   0.0000\n"
     ]
    },
    {
     "name": "stdout",
     "output_type": "stream",
     "text": [
      "2.5214481353759766\n"
     ]
    },
    {
     "name": "stderr",
     "output_type": "stream",
     "text": [
      "INFO:policy_gradient:year #     6, mean reward:   0.0151, sim ret:   0.0000, mkt ret:   0.0000, net:   0.0000\n"
     ]
    },
    {
     "name": "stdout",
     "output_type": "stream",
     "text": [
      "2.7215960025787354\n"
     ]
    },
    {
     "name": "stderr",
     "output_type": "stream",
     "text": [
      "INFO:policy_gradient:year #     7, mean reward:  -1.3242, sim ret:   0.0000, mkt ret:   0.0000, net:   0.0000\n"
     ]
    },
    {
     "name": "stdout",
     "output_type": "stream",
     "text": [
      "2.6038830280303955\n"
     ]
    },
    {
     "name": "stderr",
     "output_type": "stream",
     "text": [
      "INFO:policy_gradient:year #     8, mean reward:   1.7352, sim ret:   0.0000, mkt ret:   0.0000, net:   0.0000\n"
     ]
    },
    {
     "name": "stdout",
     "output_type": "stream",
     "text": [
      "2.822317600250244\n"
     ]
    },
    {
     "name": "stderr",
     "output_type": "stream",
     "text": [
      "INFO:policy_gradient:year #     9, mean reward:  -1.4837, sim ret:   0.0000, mkt ret:   0.0000, net:   0.0000\n"
     ]
    },
    {
     "name": "stdout",
     "output_type": "stream",
     "text": [
      "2.616946220397949\n"
     ]
    },
    {
     "name": "stderr",
     "output_type": "stream",
     "text": [
      "INFO:policy_gradient:year #    10, mean reward:  -0.6301, sim ret:   0.0000, mkt ret:   0.0000, net:   0.0000\n"
     ]
    },
    {
     "name": "stdout",
     "output_type": "stream",
     "text": [
      "2.6006929874420166\n"
     ]
    },
    {
     "name": "stderr",
     "output_type": "stream",
     "text": [
      "INFO:policy_gradient:year #    11, mean reward:   1.0606, sim ret:   0.0000, mkt ret:   0.0000, net:   0.0000\n"
     ]
    },
    {
     "name": "stdout",
     "output_type": "stream",
     "text": [
      "2.648563861846924\n"
     ]
    },
    {
     "name": "stderr",
     "output_type": "stream",
     "text": [
      "INFO:policy_gradient:year #    12, mean reward:   1.5479, sim ret:   0.0000, mkt ret:   0.0000, net:   0.0000\n"
     ]
    },
    {
     "name": "stdout",
     "output_type": "stream",
     "text": [
      "2.7061619758605957\n"
     ]
    },
    {
     "name": "stderr",
     "output_type": "stream",
     "text": [
      "INFO:policy_gradient:year #    13, mean reward:  -0.8691, sim ret:   0.0000, mkt ret:   0.0000, net:   0.0000\n"
     ]
    },
    {
     "name": "stdout",
     "output_type": "stream",
     "text": [
      "2.4070069789886475\n"
     ]
    },
    {
     "name": "stderr",
     "output_type": "stream",
     "text": [
      "INFO:policy_gradient:year #    14, mean reward:   0.0477, sim ret:   0.0000, mkt ret:   0.0000, net:   0.0000\n"
     ]
    },
    {
     "name": "stdout",
     "output_type": "stream",
     "text": [
      "2.456627130508423\n"
     ]
    },
    {
     "name": "stderr",
     "output_type": "stream",
     "text": [
      "INFO:policy_gradient:year #    15, mean reward:  -0.1304, sim ret:   0.0000, mkt ret:   0.0000, net:   0.0000\n"
     ]
    },
    {
     "name": "stdout",
     "output_type": "stream",
     "text": [
      "2.4969286918640137\n"
     ]
    },
    {
     "name": "stderr",
     "output_type": "stream",
     "text": [
      "INFO:policy_gradient:year #    16, mean reward:   2.9757, sim ret:   0.0000, mkt ret:   0.0000, net:   0.0000\n"
     ]
    },
    {
     "name": "stdout",
     "output_type": "stream",
     "text": [
      "2.3702220916748047\n"
     ]
    },
    {
     "name": "stderr",
     "output_type": "stream",
     "text": [
      "INFO:policy_gradient:year #    17, mean reward:  -0.2257, sim ret:   0.0000, mkt ret:   0.0000, net:   0.0000\n"
     ]
    },
    {
     "name": "stdout",
     "output_type": "stream",
     "text": [
      "2.4699370861053467\n"
     ]
    },
    {
     "name": "stderr",
     "output_type": "stream",
     "text": [
      "INFO:policy_gradient:year #    18, mean reward:  -0.6856, sim ret:   0.0000, mkt ret:   0.0000, net:   0.0000\n"
     ]
    },
    {
     "name": "stdout",
     "output_type": "stream",
     "text": [
      "2.6797540187835693\n"
     ]
    },
    {
     "name": "stderr",
     "output_type": "stream",
     "text": [
      "INFO:policy_gradient:year #    19, mean reward:   1.4656, sim ret:   0.0000, mkt ret:   0.0000, net:   0.0000\n"
     ]
    },
    {
     "name": "stdout",
     "output_type": "stream",
     "text": [
      "2.594458818435669\n"
     ]
    },
    {
     "name": "stderr",
     "output_type": "stream",
     "text": [
      "INFO:policy_gradient:year #    20, mean reward:   1.8106, sim ret:   0.0000, mkt ret:   0.0000, net:   0.0000\n"
     ]
    },
    {
     "name": "stdout",
     "output_type": "stream",
     "text": [
      "2.505297899246216\n"
     ]
    },
    {
     "name": "stderr",
     "output_type": "stream",
     "text": [
      "INFO:policy_gradient:year #    21, mean reward:   0.7882, sim ret:   0.0000, mkt ret:   0.0000, net:   0.0000\n"
     ]
    },
    {
     "name": "stdout",
     "output_type": "stream",
     "text": [
      "2.778599739074707\n"
     ]
    },
    {
     "name": "stderr",
     "output_type": "stream",
     "text": [
      "INFO:policy_gradient:year #    22, mean reward:   2.4665, sim ret:   0.0000, mkt ret:   0.0000, net:   0.0000\n"
     ]
    },
    {
     "name": "stdout",
     "output_type": "stream",
     "text": [
      "2.681461811065674\n"
     ]
    },
    {
     "name": "stderr",
     "output_type": "stream",
     "text": [
      "INFO:policy_gradient:year #    23, mean reward:   2.0011, sim ret:   0.0000, mkt ret:   0.0000, net:   0.0000\n"
     ]
    },
    {
     "name": "stdout",
     "output_type": "stream",
     "text": [
      "2.721522808074951\n"
     ]
    },
    {
     "name": "stderr",
     "output_type": "stream",
     "text": [
      "INFO:policy_gradient:year #    24, mean reward:  -0.6096, sim ret:   0.0000, mkt ret:   0.0000, net:   0.0000\n"
     ]
    },
    {
     "name": "stdout",
     "output_type": "stream",
     "text": [
      "2.5367648601531982\n"
     ]
    },
    {
     "name": "stderr",
     "output_type": "stream",
     "text": [
      "INFO:policy_gradient:year #    25, mean reward:   0.9203, sim ret:   0.0000, mkt ret:   0.0000, net:   0.0000\n"
     ]
    },
    {
     "name": "stdout",
     "output_type": "stream",
     "text": [
      "2.603653907775879\n"
     ]
    },
    {
     "name": "stderr",
     "output_type": "stream",
     "text": [
      "INFO:policy_gradient:year #    26, mean reward:   1.4122, sim ret:   0.0000, mkt ret:   0.0000, net:   0.0000\n"
     ]
    },
    {
     "name": "stdout",
     "output_type": "stream",
     "text": [
      "2.75675892829895\n"
     ]
    },
    {
     "name": "stderr",
     "output_type": "stream",
     "text": [
      "INFO:policy_gradient:year #    27, mean reward:   2.3328, sim ret:   0.0000, mkt ret:   0.0000, net:   0.0000\n"
     ]
    },
    {
     "name": "stdout",
     "output_type": "stream",
     "text": [
      "2.3587138652801514\n"
     ]
    },
    {
     "name": "stderr",
     "output_type": "stream",
     "text": [
      "INFO:policy_gradient:year #    28, mean reward:   1.4419, sim ret:   0.0000, mkt ret:   0.0000, net:   0.0000\n"
     ]
    },
    {
     "name": "stdout",
     "output_type": "stream",
     "text": [
      "2.8012168407440186\n"
     ]
    },
    {
     "name": "stderr",
     "output_type": "stream",
     "text": [
      "INFO:policy_gradient:year #    29, mean reward:  -0.7169, sim ret:   0.0000, mkt ret:   0.0000, net:   0.0000\n"
     ]
    },
    {
     "name": "stdout",
     "output_type": "stream",
     "text": [
      "2.903080940246582\n"
     ]
    },
    {
     "name": "stderr",
     "output_type": "stream",
     "text": [
      "INFO:policy_gradient:year #    30, mean reward:   0.0506, sim ret:   0.0000, mkt ret:   0.0000, net:   0.0000\n"
     ]
    },
    {
     "name": "stdout",
     "output_type": "stream",
     "text": [
      "2.8862361907958984\n"
     ]
    },
    {
     "name": "stderr",
     "output_type": "stream",
     "text": [
      "INFO:policy_gradient:year #    31, mean reward:   0.3910, sim ret:   0.0000, mkt ret:   0.0000, net:   0.0000\n"
     ]
    },
    {
     "name": "stdout",
     "output_type": "stream",
     "text": [
      "2.798658609390259\n"
     ]
    },
    {
     "name": "stderr",
     "output_type": "stream",
     "text": [
      "INFO:policy_gradient:year #    32, mean reward:   0.8316, sim ret:   0.0000, mkt ret:   0.0000, net:   0.0000\n"
     ]
    },
    {
     "name": "stdout",
     "output_type": "stream",
     "text": [
      "2.762417793273926\n"
     ]
    },
    {
     "name": "stderr",
     "output_type": "stream",
     "text": [
      "INFO:policy_gradient:year #    33, mean reward:   1.1566, sim ret:   0.0000, mkt ret:   0.0000, net:   0.0000\n"
     ]
    },
    {
     "name": "stdout",
     "output_type": "stream",
     "text": [
      "2.5021049976348877\n"
     ]
    },
    {
     "name": "stderr",
     "output_type": "stream",
     "text": [
      "INFO:policy_gradient:year #    34, mean reward:   0.6923, sim ret:   0.0000, mkt ret:   0.0000, net:   0.0000\n"
     ]
    },
    {
     "name": "stdout",
     "output_type": "stream",
     "text": [
      "2.6405959129333496\n"
     ]
    },
    {
     "name": "stderr",
     "output_type": "stream",
     "text": [
      "INFO:policy_gradient:year #    35, mean reward:  -1.0886, sim ret:   0.0000, mkt ret:   0.0000, net:   0.0000\n"
     ]
    },
    {
     "name": "stdout",
     "output_type": "stream",
     "text": [
      "2.648319959640503\n"
     ]
    },
    {
     "name": "stderr",
     "output_type": "stream",
     "text": [
      "INFO:policy_gradient:year #    36, mean reward:   0.5896, sim ret:   0.0000, mkt ret:   0.0000, net:   0.0000\n"
     ]
    },
    {
     "name": "stdout",
     "output_type": "stream",
     "text": [
      "2.9013941287994385\n"
     ]
    },
    {
     "name": "stderr",
     "output_type": "stream",
     "text": [
      "INFO:policy_gradient:year #    37, mean reward:   1.6564, sim ret:   0.0000, mkt ret:   0.0000, net:   0.0000\n"
     ]
    },
    {
     "name": "stdout",
     "output_type": "stream",
     "text": [
      "2.6179559230804443\n"
     ]
    },
    {
     "name": "stderr",
     "output_type": "stream",
     "text": [
      "INFO:policy_gradient:year #    38, mean reward:   0.2671, sim ret:   0.0000, mkt ret:   0.0000, net:   0.0000\n"
     ]
    },
    {
     "name": "stdout",
     "output_type": "stream",
     "text": [
      "2.503450870513916\n"
     ]
    },
    {
     "name": "stderr",
     "output_type": "stream",
     "text": [
      "INFO:policy_gradient:year #    39, mean reward:   0.6065, sim ret:   0.0000, mkt ret:   0.0000, net:   0.0000\n"
     ]
    },
    {
     "name": "stdout",
     "output_type": "stream",
     "text": [
      "2.633676052093506\n"
     ]
    },
    {
     "name": "stderr",
     "output_type": "stream",
     "text": [
      "INFO:policy_gradient:year #    40, mean reward:   0.0357, sim ret:   0.0000, mkt ret:   0.0000, net:   0.0000\n"
     ]
    },
    {
     "name": "stdout",
     "output_type": "stream",
     "text": [
      "2.4734880924224854\n"
     ]
    },
    {
     "name": "stderr",
     "output_type": "stream",
     "text": [
      "INFO:policy_gradient:year #    41, mean reward:   1.4120, sim ret:   0.0000, mkt ret:   0.0000, net:   0.0000\n"
     ]
    },
    {
     "name": "stdout",
     "output_type": "stream",
     "text": [
      "2.3983261585235596\n"
     ]
    },
    {
     "name": "stderr",
     "output_type": "stream",
     "text": [
      "INFO:policy_gradient:year #    42, mean reward:  -1.1369, sim ret:   0.0000, mkt ret:   0.0000, net:   0.0000\n"
     ]
    },
    {
     "name": "stdout",
     "output_type": "stream",
     "text": [
      "2.381945848464966\n"
     ]
    },
    {
     "name": "stderr",
     "output_type": "stream",
     "text": [
      "INFO:policy_gradient:year #    43, mean reward:   0.8551, sim ret:   0.0000, mkt ret:   0.0000, net:   0.0000\n"
     ]
    },
    {
     "name": "stdout",
     "output_type": "stream",
     "text": [
      "2.313767910003662\n"
     ]
    },
    {
     "name": "stderr",
     "output_type": "stream",
     "text": [
      "INFO:policy_gradient:year #    44, mean reward:  -0.5294, sim ret:   0.0000, mkt ret:   0.0000, net:   0.0000\n"
     ]
    },
    {
     "name": "stdout",
     "output_type": "stream",
     "text": [
      "2.4055581092834473\n"
     ]
    },
    {
     "name": "stderr",
     "output_type": "stream",
     "text": [
      "INFO:policy_gradient:year #    45, mean reward:   0.7959, sim ret:   0.0000, mkt ret:   0.0000, net:   0.0000\n"
     ]
    },
    {
     "name": "stdout",
     "output_type": "stream",
     "text": [
      "2.590557098388672\n"
     ]
    },
    {
     "name": "stderr",
     "output_type": "stream",
     "text": [
      "INFO:policy_gradient:year #    46, mean reward:   1.5898, sim ret:   0.0000, mkt ret:   0.0000, net:   0.0000\n"
     ]
    },
    {
     "name": "stdout",
     "output_type": "stream",
     "text": [
      "2.329400062561035\n"
     ]
    },
    {
     "name": "stderr",
     "output_type": "stream",
     "text": [
      "INFO:policy_gradient:year #    47, mean reward:   0.2463, sim ret:   0.0000, mkt ret:   0.0000, net:   0.0000\n"
     ]
    },
    {
     "name": "stdout",
     "output_type": "stream",
     "text": [
      "2.3353381156921387\n"
     ]
    },
    {
     "name": "stderr",
     "output_type": "stream",
     "text": [
      "INFO:policy_gradient:year #    48, mean reward:   2.6288, sim ret:   0.0000, mkt ret:   0.0000, net:   0.0000\n"
     ]
    },
    {
     "name": "stdout",
     "output_type": "stream",
     "text": [
      "2.411273241043091\n"
     ]
    },
    {
     "name": "stderr",
     "output_type": "stream",
     "text": [
      "INFO:policy_gradient:year #    49, mean reward:   0.9350, sim ret:   0.0000, mkt ret:   0.0000, net:   0.0000\n"
     ]
    },
    {
     "name": "stdout",
     "output_type": "stream",
     "text": [
      "2.987675905227661\n"
     ]
    },
    {
     "name": "stderr",
     "output_type": "stream",
     "text": [
      "INFO:policy_gradient:year #    50, mean reward:   0.9544, sim ret:   0.0000, mkt ret:   0.0000, net:   0.0000\n"
     ]
    },
    {
     "name": "stdout",
     "output_type": "stream",
     "text": [
      "2.7481231689453125\n"
     ]
    },
    {
     "name": "stderr",
     "output_type": "stream",
     "text": [
      "INFO:policy_gradient:year #    51, mean reward:   0.7426, sim ret:   0.0000, mkt ret:   0.0000, net:   0.0000\n"
     ]
    },
    {
     "name": "stdout",
     "output_type": "stream",
     "text": [
      "2.372915029525757\n"
     ]
    },
    {
     "name": "stderr",
     "output_type": "stream",
     "text": [
      "INFO:policy_gradient:year #    52, mean reward:   2.5248, sim ret:   0.0000, mkt ret:   0.0000, net:   0.0000\n"
     ]
    },
    {
     "name": "stdout",
     "output_type": "stream",
     "text": [
      "2.30126690864563\n"
     ]
    },
    {
     "name": "stderr",
     "output_type": "stream",
     "text": [
      "INFO:policy_gradient:year #    53, mean reward:   2.0992, sim ret:   0.0000, mkt ret:   0.0000, net:   0.0000\n"
     ]
    },
    {
     "name": "stdout",
     "output_type": "stream",
     "text": [
      "2.3747920989990234\n"
     ]
    },
    {
     "name": "stderr",
     "output_type": "stream",
     "text": [
      "INFO:policy_gradient:year #    54, mean reward:   2.0160, sim ret:   0.0000, mkt ret:   0.0000, net:   0.0000\n"
     ]
    },
    {
     "name": "stdout",
     "output_type": "stream",
     "text": [
      "2.3566861152648926\n"
     ]
    },
    {
     "name": "stderr",
     "output_type": "stream",
     "text": [
      "INFO:policy_gradient:year #    55, mean reward:   1.6213, sim ret:   0.0000, mkt ret:   0.0000, net:   0.0000\n"
     ]
    },
    {
     "name": "stdout",
     "output_type": "stream",
     "text": [
      "2.3227410316467285\n"
     ]
    },
    {
     "name": "stderr",
     "output_type": "stream",
     "text": [
      "INFO:policy_gradient:year #    56, mean reward:   0.0786, sim ret:   0.0000, mkt ret:   0.0000, net:   0.0000\n"
     ]
    },
    {
     "name": "stdout",
     "output_type": "stream",
     "text": [
      "2.3311221599578857\n"
     ]
    }
   ],
   "source": [
    "import gym\n",
    "import numpy as np\n",
    "import pandas as pd\n",
    "import matplotlib as mpl\n",
    "import matplotlib.pyplot as plt\n",
    "from matplotlib import interactive\n",
    "interactive(True)\n",
    "import gym_trading\n",
    "\n",
    "env = gym.make('trading-v0')\n",
    "#env.time_cost_bps = 0 # \n",
    "\n",
    "env = env.unwrapped\n",
    "\n",
    "\n",
    "\n",
    "import tensorflow as tf\n",
    "import policy_gradient\n",
    "\n",
    "\n",
    "# create the tf session\n",
    "sess = tf.InteractiveSession()\n",
    "\n",
    "# Input\n",
    "num_actions=10  # same as # of stocks\n",
    "Variables=3\n",
    "obs_dim=num_actions*Variables\n",
    "NumOfLayers=2\n",
    "architecture = \"LSTM\" # right now, valid inputs are LSTM and FFNN\n",
    "LR=\"GD\"\n",
    "actFunc=\"relu\"\n",
    "regulizer=\"l2\"\n",
    "regulizerScale=0.0001\n",
    "#avgfilename=\"/home/s1793158/mlp3/FILE_Name.p\"\n",
    "\n",
    "actFuncs=[\"elu\"]\n",
    "name=[\"RNN_GD_elu4_l2\"]#[\"RNN_GD_relu_l2\",\"RNN_GD_elu_l2\",\"RNN_GD_lrelu_l2\",\"RNN_GD_selu_l2\",\"RNN_GD_sig_l2\"]\n",
    "   # from tensorflow.python.framework import ops\n",
    "    #ops.reset.default_graph()\n",
    "\n",
    "for i in range(1):\n",
    "    tf.reset_default_graph()\n",
    "    sess = tf.InteractiveSession()\n",
    "    \n",
    "    avgfilename=\"/afs/inf.ed.ac.uk/user/s17/s1793158/mlp3/Saving/\"+name[i]+\".p\"\n",
    "    Modelfilename=\"/afs/inf.ed.ac.uk/user/s17/s1793158/mlp3/SavedModels/\"+name[i]\n",
    "    \n",
    "    \n",
    "    pg = policy_gradient.PolicyGradient(sess, obs_dim=obs_dim, \n",
    "                                        num_actions=num_actions,\n",
    "                                        NumOfLayers=NumOfLayers, \n",
    "                                        LR=LR,\n",
    "                                        architecture=architecture,\n",
    "                                        actFunc=actFuncs[i],\n",
    "                                        learning_rate=1e-4,\n",
    "                                        regulizer =regulizer,\n",
    "                                        regulizerScale=regulizerScale,\n",
    "                                        avgfilename=avgfilename,\n",
    "                                        Modelfilename=Modelfilename\n",
    "                                       )\n",
    "\n",
    "    # and now let's train it and evaluate its progress.  NB: this could take some time...\n",
    "    direc=\"aa\"\n",
    "    load_model=False\n",
    "    #grads, grads_clipped = pg.get_grads_and_clipping()\n",
    "    '''with tf.Session() as sess:\n",
    "    sess.run(init)  # actually running the initialization op\n",
    "    _grads_clipped, _grads = sess.run(\n",
    "                        [grads_clipped, grads],\n",
    "                        feed_dict={pg.X: epX, pg._tf_epr: epr, pg._tf_y: epy, pg._tf_x: epx})'''\n",
    "    df,sf = pg.train_model(env, episodes=5000, log_freq=1, load_model=False,model_dir = direc)#, load_model=True)"
   ]
  },
  {
   "cell_type": "code",
   "execution_count": 1,
   "metadata": {},
   "outputs": [
    {
     "ename": "FileNotFoundError",
     "evalue": "[Errno 2] No such file or directory: '/afs/inf.ed.ac.uk/user/s17/s1793158/mlp3/Saving/RNN_GD_relu_l2.p'",
     "output_type": "error",
     "traceback": [
      "\u001b[0;31m---------------------------------------------------------------------------\u001b[0m",
      "\u001b[0;31mFileNotFoundError\u001b[0m                         Traceback (most recent call last)",
      "\u001b[0;32m<ipython-input-1-3d170fe3780e>\u001b[0m in \u001b[0;36m<module>\u001b[0;34m()\u001b[0m\n\u001b[1;32m      2\u001b[0m \u001b[0mloca\u001b[0m\u001b[0;34m=\u001b[0m\u001b[0;34m\"/afs/inf.ed.ac.uk/user/s17/s1793158/mlp3/Saving/\"\u001b[0m\u001b[0;34m\u001b[0m\u001b[0m\n\u001b[1;32m      3\u001b[0m \u001b[0;34m\u001b[0m\u001b[0m\n\u001b[0;32m----> 4\u001b[0;31m \u001b[0mrelu\u001b[0m \u001b[0;34m=\u001b[0m \u001b[0mpkl\u001b[0m\u001b[0;34m.\u001b[0m\u001b[0mload\u001b[0m\u001b[0;34m(\u001b[0m \u001b[0mopen\u001b[0m\u001b[0;34m(\u001b[0m \u001b[0mloca\u001b[0m\u001b[0;34m+\u001b[0m\u001b[0;34m\"RNN_GD_relu_l2.p\"\u001b[0m\u001b[0;34m,\u001b[0m \u001b[0;34m\"rb\"\u001b[0m \u001b[0;34m)\u001b[0m \u001b[0;34m)\u001b[0m\u001b[0;34m\u001b[0m\u001b[0m\n\u001b[0m\u001b[1;32m      5\u001b[0m \u001b[0melu\u001b[0m \u001b[0;34m=\u001b[0m \u001b[0mpkl\u001b[0m\u001b[0;34m.\u001b[0m\u001b[0mload\u001b[0m\u001b[0;34m(\u001b[0m \u001b[0mopen\u001b[0m\u001b[0;34m(\u001b[0m \u001b[0mloca\u001b[0m\u001b[0;34m+\u001b[0m\u001b[0;34m\"RNN_GD_elu_l2.p\"\u001b[0m\u001b[0;34m,\u001b[0m \u001b[0;34m\"rb\"\u001b[0m \u001b[0;34m)\u001b[0m \u001b[0;34m)\u001b[0m\u001b[0;34m\u001b[0m\u001b[0m\n\u001b[1;32m      6\u001b[0m \u001b[0msig\u001b[0m \u001b[0;34m=\u001b[0m \u001b[0mpkl\u001b[0m\u001b[0;34m.\u001b[0m\u001b[0mload\u001b[0m\u001b[0;34m(\u001b[0m \u001b[0mopen\u001b[0m\u001b[0;34m(\u001b[0m \u001b[0mloca\u001b[0m\u001b[0;34m+\u001b[0m\u001b[0;34m\"RNN_GD_sig_l2.p\"\u001b[0m\u001b[0;34m,\u001b[0m \u001b[0;34m\"rb\"\u001b[0m \u001b[0;34m)\u001b[0m \u001b[0;34m)\u001b[0m\u001b[0;34m\u001b[0m\u001b[0m\n",
      "\u001b[0;31mFileNotFoundError\u001b[0m: [Errno 2] No such file or directory: '/afs/inf.ed.ac.uk/user/s17/s1793158/mlp3/Saving/RNN_GD_relu_l2.p'"
     ]
    }
   ],
   "source": [
    "import pickle as pkl\n",
    "loca=\"/afs/inf.ed.ac.uk/user/s17/s1793158/mlp3/Saving/\"\n",
    "\n",
    "relu = pkl.load( open( loca+\"RNN_GD_relu_l2.p\", \"rb\" ) )\n",
    "elu = pkl.load( open( loca+\"RNN_GD_elu_l2.p\", \"rb\" ) )\n",
    "sig = pkl.load( open( loca+\"RNN_GD_sig_l2.p\", \"rb\" ) )\n",
    "lrelu = pkl.load( open( loca+\"RNN_GD_lrelu_l2.p\", \"rb\" ) )\n",
    "sigmoid = pkl.load( open( loca+\"RNN_GD_sig_l2.p\", \"rb\" ) )\n",
    "\n",
    "selu = pkl.load( open( loca+\"RNN_GD_selu_l2.p\", \"rb\" ) )\n"
   ]
  },
  {
   "cell_type": "code",
   "execution_count": 50,
   "metadata": {},
   "outputs": [
    {
     "name": "stdout",
     "output_type": "stream",
     "text": [
      "[ 0.06850584  0.00061238]\n",
      "[ 0.99718662  0.00114753]\n",
      "[  5.03948057e-01   7.64665453e-05]\n",
      "[ -1.24816547e+00  -5.54754012e-04]\n",
      "[  1.02823354e+00   1.66590551e-04]\n"
     ]
    }
   ],
   "source": [
    "print(np.mean(relu,axis=1))\n",
    "print(np.mean(lrelu,axis=1))\n",
    "print(np.mean(elu[:,:510],axis=1))\n",
    "print(np.mean(selu,axis=1))\n",
    "print(np.mean(sigmoid,axis=1))"
   ]
  },
  {
   "cell_type": "code",
   "execution_count": 34,
   "metadata": {},
   "outputs": [
    {
     "data": {
      "text/plain": [
       "<matplotlib.legend.Legend at 0x7ff79dcc6828>"
      ]
     },
     "execution_count": 34,
     "metadata": {},
     "output_type": "execute_result"
    },
    {
     "data": {
      "image/png": "[encoded data removed]",
      "text/plain": [
       "<matplotlib.figure.Figure at 0x7ff79cb3a828>"
      ]
     },
     "metadata": {},
     "output_type": "display_data"
    }
   ],
   "source": [
    "aa=50\n",
    "plt.figure(figsize=(12,12))\n",
    "plt.hist(relu[1,:],label=\"relu\",alpha = 0.5,bins=aa)\n",
    "#plt.hist(elu[0,:],label=\"elu\")\n",
    "plt.hist(lrelu[1,:],label=\"lrelu\", alpha = 0.5,bins=aa)\n",
    "plt.hist(selu[1,:],label=\"selu\", alpha = 0.5,bins=aa)\n",
    "plt.hist(sigmoid[1,:],label=\"sigmoid\", alpha = 0.5,bins=aa)\n",
    "plt.legend()"
   ]
  },
  {
   "cell_type": "code",
   "execution_count": 2,
   "metadata": {},
   "outputs": [
    {
     "ename": "NameError",
     "evalue": "name 'relu' is not defined",
     "output_type": "error",
     "traceback": [
      "\u001b[0;31m---------------------------------------------------------------------------\u001b[0m",
      "\u001b[0;31mNameError\u001b[0m                                 Traceback (most recent call last)",
      "\u001b[0;32m<ipython-input-2-74c1da894a66>\u001b[0m in \u001b[0;36m<module>\u001b[0;34m()\u001b[0m\n\u001b[1;32m      1\u001b[0m \u001b[0mplt\u001b[0m\u001b[0;34m.\u001b[0m\u001b[0mfigure\u001b[0m\u001b[0;34m(\u001b[0m\u001b[0mfigsize\u001b[0m\u001b[0;34m=\u001b[0m\u001b[0;34m(\u001b[0m\u001b[0;36m12\u001b[0m\u001b[0;34m,\u001b[0m\u001b[0;36m12\u001b[0m\u001b[0;34m)\u001b[0m\u001b[0;34m)\u001b[0m\u001b[0;34m\u001b[0m\u001b[0m\n\u001b[0;32m----> 2\u001b[0;31m \u001b[0mplt\u001b[0m\u001b[0;34m.\u001b[0m\u001b[0mhist\u001b[0m\u001b[0;34m(\u001b[0m\u001b[0mrelu\u001b[0m\u001b[0;34m[\u001b[0m\u001b[0;36m0\u001b[0m\u001b[0;34m,\u001b[0m\u001b[0;34m:\u001b[0m\u001b[0;34m]\u001b[0m\u001b[0;34m,\u001b[0m\u001b[0mlabel\u001b[0m\u001b[0;34m=\u001b[0m\u001b[0;34m\"relu\"\u001b[0m\u001b[0;34m,\u001b[0m\u001b[0malpha\u001b[0m \u001b[0;34m=\u001b[0m \u001b[0;36m0.5\u001b[0m\u001b[0;34m)\u001b[0m\u001b[0;34m\u001b[0m\u001b[0m\n\u001b[0m\u001b[1;32m      3\u001b[0m \u001b[0;31m#plt.hist(elu[0,:],label=\"elu\")\u001b[0m\u001b[0;34m\u001b[0m\u001b[0;34m\u001b[0m\u001b[0m\n\u001b[1;32m      4\u001b[0m \u001b[0mplt\u001b[0m\u001b[0;34m.\u001b[0m\u001b[0mhist\u001b[0m\u001b[0;34m(\u001b[0m\u001b[0mlrelu\u001b[0m\u001b[0;34m[\u001b[0m\u001b[0;36m0\u001b[0m\u001b[0;34m,\u001b[0m\u001b[0;34m:\u001b[0m\u001b[0;34m]\u001b[0m\u001b[0;34m,\u001b[0m\u001b[0mlabel\u001b[0m\u001b[0;34m=\u001b[0m\u001b[0;34m\"lrelu\"\u001b[0m\u001b[0;34m,\u001b[0m \u001b[0malpha\u001b[0m \u001b[0;34m=\u001b[0m \u001b[0;36m0.5\u001b[0m\u001b[0;34m)\u001b[0m\u001b[0;34m\u001b[0m\u001b[0m\n\u001b[1;32m      5\u001b[0m \u001b[0mplt\u001b[0m\u001b[0;34m.\u001b[0m\u001b[0mhist\u001b[0m\u001b[0;34m(\u001b[0m\u001b[0mselu\u001b[0m\u001b[0;34m[\u001b[0m\u001b[0;36m0\u001b[0m\u001b[0;34m,\u001b[0m\u001b[0;34m:\u001b[0m\u001b[0;34m]\u001b[0m\u001b[0;34m,\u001b[0m\u001b[0mlabel\u001b[0m\u001b[0;34m=\u001b[0m\u001b[0;34m\"selu\"\u001b[0m\u001b[0;34m,\u001b[0m \u001b[0malpha\u001b[0m \u001b[0;34m=\u001b[0m \u001b[0;36m0.5\u001b[0m\u001b[0;34m)\u001b[0m\u001b[0;34m\u001b[0m\u001b[0m\n",
      "\u001b[0;31mNameError\u001b[0m: name 'relu' is not defined"
     ]
    },
    {
     "data": {
      "text/plain": [
       "<matplotlib.figure.Figure at 0x1a208186d8>"
      ]
     },
     "metadata": {},
     "output_type": "display_data"
    }
   ],
   "source": [
    "plt.figure(figsize=(12,12))\n",
    "plt.hist(relu[0,:],label=\"relu\",alpha = 0.5)\n",
    "#plt.hist(elu[0,:],label=\"elu\")\n",
    "plt.hist(lrelu[0,:],label=\"lrelu\", alpha = 0.5)\n",
    "plt.hist(selu[0,:],label=\"selu\", alpha = 0.5)\n",
    "plt.hist(sigmoid[0,:],label=\"sigmoid\", alpha = 0.5)\n",
    "plt.legend()"
   ]
  },
  {
   "cell_type": "code",
   "execution_count": 7,
   "metadata": {},
   "outputs": [
    {
     "name": "stdout",
     "output_type": "stream",
     "text": [
      "[[1 2 3]\n",
      " [4 5 6]\n",
      " [7 8 9]]\n",
      "[[[1 2 3]]\n",
      "\n",
      " [[4 5 6]]\n",
      "\n",
      " [[7 8 9]]]\n"
     ]
    }
   ],
   "source": [
    "a = np.asarray([[1,2,3],[4,5,6],[7,8,9]])\n",
    "print(a)\n",
    "a = np.reshape(a, (3,1,3))\n",
    "print(a)"
   ]
  },
  {
   "cell_type": "code",
   "execution_count": null,
   "metadata": {},
   "outputs": [],
   "source": []
  },
  {
   "cell_type": "code",
   "execution_count": null,
   "metadata": {},
   "outputs": [],
   "source": []
  }
 ],
 "metadata": {
  "kernelspec": {
   "display_name": "Python 3",
   "language": "python",
   "name": "python3"
  },
  "language_info": {
   "codemirror_mode": {
    "name": "ipython",
    "version": 3
   },
   "file_extension": ".py",
   "mimetype": "text/x-python",
   "name": "python",
   "nbconvert_exporter": "python",
   "pygments_lexer": "ipython3",
   "version": "3.6.4"
  }
 },
 "nbformat": 4,
 "nbformat_minor": 2
}
