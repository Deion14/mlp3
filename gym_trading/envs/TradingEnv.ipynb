{
 "cells": [
  {
   "cell_type": "code",
   "execution_count": 1,

   "metadata": {
    "scrolled": true
   },
   "outputs": [
    {
     "name": "stdout",
     "output_type": "stream",
     "text": [
      "\u001b[33mWARN: gym.spaces.Box autodetected dtype as <class 'numpy.float32'>. Please provide explicit dtype.\u001b[0m\n",
      "\u001b[33mWARN: gym.spaces.Box autodetected dtype as <class 'numpy.float32'>. Please provide explicit dtype.\u001b[0m\n",
      "\u001b[33mWARN: Environment '<class 'gym_trading.envs.trading_env.TradingEnv'>' has deprecated methods. Compatibility code invoked.\u001b[0m\n"
     ]
    },
    {
     "name": "stderr",
     "output_type": "stream",
     "text": [

      "/afs/inf.ed.ac.uk/user/s17/s1793158/miniconda3/envs/mlp/lib/python3.6/importlib/_bootstrap.py:205: RuntimeWarning: compiletime version 3.5 of module 'tensorflow.python.framework.fast_tensor_util' does not match runtime version 3.6\n",
      "  return f(*args, **kwds)\n",
      "INFO:policy_gradient:policy_gradient logger started.\n",
      "INFO:policy_gradient:year #     0, mean reward:   0.2542, sim ret:   0.0000, mkt ret:   0.0000, net:   0.0000\n"
     ]
    },
    {
     "name": "stdout",
     "output_type": "stream",
     "text": [
      "0.6058130264282227\n",
      "0.6437227725982666\n",
      "0.6284592151641846\n",
      "0.6108942031860352\n",
      "0.638390302658081\n"
     ]
    },
    {
     "name": "stderr",
     "output_type": "stream",
     "text": [
      "INFO:policy_gradient:year #     0, mean reward:  -2.9661, sim ret:   0.0000, mkt ret:   0.0000, net:   0.0000\n"
     ]
    },
    {
     "name": "stdout",
     "output_type": "stream",
     "text": [
      "0.6625902652740479\n",
      "0.653007984161377\n",
      "0.6305563449859619\n",
      "0.6750543117523193\n",
      "0.6543629169464111\n"
     ]
    },
    {
     "name": "stderr",
     "output_type": "stream",
     "text": [
      "INFO:policy_gradient:year #     0, mean reward:  -3.6193, sim ret:   0.0000, mkt ret:   0.0000, net:   0.0000\n"
     ]
    },
    {
     "name": "stdout",
     "output_type": "stream",
     "text": [
      "0.6863753795623779\n",
      "0.6684672832489014\n",
      "0.6332299709320068\n",
      "0.6361396312713623\n",
      "0.6228430271148682\n"
     ]
    },
    {
     "name": "stderr",
     "output_type": "stream",
     "text": [
      "INFO:policy_gradient:year #     0, mean reward:   2.8196, sim ret:   0.0000, mkt ret:   0.0000, net:   0.0000\n"
     ]
    },
    {
     "name": "stdout",
     "output_type": "stream",
     "text": [
      "0.6876833438873291\n",
      "0.6490106582641602\n",
      "0.6306912899017334\n",
      "0.6130800247192383\n",
      "0.6266529560089111\n"
     ]
    },
    {
     "name": "stderr",
     "output_type": "stream",
     "text": [
      "INFO:policy_gradient:year #     0, mean reward:  -3.4106, sim ret:   0.0000, mkt ret:   0.0000, net:   0.0000\n"
     ]
    },
    {
     "name": "stdout",
     "output_type": "stream",
     "text": [
      "0.7622826099395752\n",
      "0.6540317535400391\n",
      "0.6573586463928223\n",
      "0.6231529712677002\n",
      "0.6622748374938965\n"

     ]
    }
   ],
   "source": [
    "import gym\n",
    "import numpy as np\n",
    "import pandas as pd\n",
    "import matplotlib as mpl\n",
    "import matplotlib.pyplot as plt\n",
    "from matplotlib import interactive\n",
    "interactive(True)\n",
    "import gym_trading\n",
    "\n",
    "env = gym.make('trading-v0')\n",
    "#env.time_cost_bps = 0 # \n",
    "\n",
    "env = env.unwrapped\n",
    "\n",
    "\n",
    "\n",
    "import tensorflow as tf\n",
    "import policy_gradient\n",
    "\n",
    "\n",
    "# create the tf session\n",
    "sess = tf.InteractiveSession()\n",
    "\n",
    "# Input\n",
    "num_actions=10  # same as # of stocks\n",
    "Variables=3\n",
    "obs_dim=num_actions*Variables\n",
    "NumOfLayers=2\n",
    "architecture = \"LSTM\" # right now, valid inputs are LSTM and FFNN\n",
    "LR=\"GD\"\n",
    "actFunc=\"relu\"\n",
    "regulizer=\"l2\"\n",

    "regulizerScale=0.0001\n",
    "#avgfilename=\"/home/s1793158/mlp3/FILE_Name.p\"\n",
    "\n",
    "actFuncs=[\"relu\",\"elu\",\"lrelu\",\"selu\",\"sigmoid\"]\n",
    "name=[\"RNN_GD_relu_l2\",\"RNN_GD_elu_l2\",\"RNN_GD_lrelu_l2\",\"RNN_GD_selu_l2\",\"RNN_GD_sig_l2\"]\n",
    "   # from tensorflow.python.framework import ops\n",
    "    #ops.reset.default_graph()\n",
    "\n",
    "for i in range(5):\n",
    "    tf.reset_default_graph()\n",
    "    sess = tf.InteractiveSession()\n",
    "    \n",
    "    avgfilename=\"/afs/inf.ed.ac.uk/user/s17/s1793158/mlp3/Saving/\"+name[i]+\".p\"\n",
    "    Modelfilename=\"/afs/inf.ed.ac.uk/user/s17/s1793158/mlp3/SavedModels/\"+name[i]\n",
    "    pg = policy_gradient.PolicyGradient(sess, obs_dim=obs_dim, \n",
    "                                        num_actions=num_actions,\n",
    "                                        NumOfLayers=NumOfLayers, \n",
    "                                        LR=LR,\n",
    "                                        architecture=architecture,\n",
    "                                        actFunc=actFuncs[i],\n",
    "                                        learning_rate=1e-4,\n",
    "                                        regulizer =regulizer,\n",
    "                                        regulizerScale=regulizerScale,\n",
    "                                        avgfilename=avgfilename,\n",
    "                                        Modelfilename=Modelfilename\n",
    "                                       )\n",
    "\n",
    "    # and now let's train it and evaluate its progress.  NB: this could take some time...\n",
    "    direc=\"aa\"\n",
    "    load_model=False\n",
    "    #grads, grads_clipped = pg.get_grads_and_clipping()\n",
    "    '''with tf.Session() as sess:\n",
=======
    
    "    sess.run(init)  # actually running the initialization op\n",
    "    _grads_clipped, _grads = sess.run(\n",
    "                        [grads_clipped, grads],\n",
    "                        feed_dict={pg.X: epX, pg._tf_epr: epr, pg._tf_y: epy, pg._tf_x: epx})'''\n",
    "    df,sf = pg.train_model(env, episodes=5, log_freq=100, load_model=False,model_dir = direc)#, load_model=True)"
   ]
  },
  {
   "cell_type": "code",
   "execution_count": 2,
   "metadata": {
    "collapsed": true
   },
   "outputs": [],
   "source": [
    "import pickle as pkl\n",
    "loca=\"/afs/inf.ed.ac.uk/user/s17/s1793158/mlp3/Saving/\"\n",
    "\n",
    "relu = pkl.load( open( loca+\"RNN_GD_relu_l2.p\", \"rb\" ) )\n",
    "elu = pkl.load( open( loca+\"RNN_GD_elu_l2.p\", \"rb\" ) )\n",
    "sig = pkl.load( open( loca+\"RNN_GD_sig_l2.p\", \"rb\" ) )"
   ]
  },
  {
   "cell_type": "code",
   "execution_count": 9,
   "metadata": {},
   "outputs": [
    {
     "data": {
      "text/plain": [
       "array([[  2.54229168e-01,   2.74308127e+00,  -9.76787762e-01,\n",
       "         -2.40559932e+00,  -3.59603822e+00],\n",
       "       [  1.99416964e-03,  -7.16067928e-03,   8.45054715e-03,\n",
       "         -8.15051204e-03,  -3.57881134e-03]])"
      ]
     },
     "execution_count": 9,
     "metadata": {},
     "output_type": "execute_result"
    }
   ],
   "source": [
    "relu"
   ]
  },
  {
   "cell_type": "code",
   "execution_count": 4,
   "metadata": {
    "collapsed": true
   },
   "outputs": [],
   "source": [
    "# import quandl\n",
    "# q_api_key = \"bB4wp5--7XrkpGZ7-gxJ\"\n",
    "# quandl.ApiConfig.api_key = q_api_key\n",
    "# #Stocks=['GE', 'AMD', 'F', 'AAPL', 'TWTR', 'CHK', 'MU', 'MSFT', 'CSCO', 'T', 'SNAP', 'INTC', 'WFC', 'VALE', 'PFE', 'SWN', 'NVDA', 'WFT', 'CMCSA', 'FCX', 'SIRI', 'KMI', 'XOM', 'PBR', 'RAD', 'JPM', 'VZ', 'NOK', 'C', 'ABEV', 'RIG', 'NWL', 'ORCL', 'QCOM', 'VIPS', 'KO', 'AMAT', 'TEVA', 'AKS', 'ESV', 'FEYE', 'ABX', 'SLB', 'GM', 'CTL', 'SBUX', 'GRPN', 'CX', 'DAL', 'CBL', 'PG', 'RF', 'S', 'ATVI', 'MRK', 'JD', 'MGM', 'HAL', 'MRO', 'V', 'EXPE', 'HBI', 'FOXA', 'CVS', 'HPE', 'KEY', 'NBR', 'ECA', 'EBAY', 'FDC', 'MS', 'GG', 'AIG', 'JNJ', 'CZR', 'AUY', 'DDR', 'SAN', 'PYPL', 'CLF', 'WMT', 'ITUB', 'AMZN', 'MDLZ', 'GILD', 'NKE', 'BRX', 'PBR', 'A', 'KGC', 'HPQ', 'X', 'DWDP', 'ON', 'VER', 'RRC', 'CY', 'TSLA', 'SCHW', 'PTEN']\n",
    "# #Stocks=['GE', 'AMD', 'F','AAPL', 'TWTR', 'CHK']\n",
    "# #Stocks=['GE', 'AMD', 'F', 'AAPL', 'CHK', 'MU', 'AIG','MSFT', 'CSCO', 'T']# 'SNAP', 'INTC', 'WFC', 'VALE', 'PFE', 'SWN', 'NVDA', 'WFT', 'CMCSA', 'FCX', 'SIRI', 'KMI', 'XOM', 'PBR', 'RAD', 'JPM', 'VZ', 'NOK', 'C', 'ABEV', 'RIG', 'NWL', 'ORCL', 'QCOM', 'VIPS', 'KO', 'AMAT', 'TEVA', 'AKS', 'ESV', 'FEYE', 'ABX', 'SLB', 'GM', 'CTL', 'SBUX', 'GRPN', 'CX', 'DAL']\n",
    "\n",
    "# #df = quandl.get_table('WIKI/PRICES', ticker=Stocks, qopts = { 'columns': ['ticker', 'volume','adj_close'] }, date = { 'gte': '2011-12-31', 'lte': '2016-12-31' }, paginate=True ) \n",
    "# #df.to_csv(path_or_buf=\"/Users/andrewplaate/mlp3/10Stocks.csv\")"
   ]
  },
  {
   "cell_type": "code",
   "execution_count": 5,
   "metadata": {
    "collapsed": true,
    "scrolled": true
   },
   "outputs": [],
   "source": [
    "# import gym\n",
    "# import numpy as np\n",
    "# import pandas as pd\n",
    "# import matplotlib as mpl\n",
    "# import matplotlib.pyplot as plt\n",
    "# from matplotlib import interactive\n",
    "# interactive(True)\n",
    "# import gym_trading\n",
    "\n",
    "# env = gym.make('trading-v0')\n",
    "# #env.time_cost_bps = 0 # \n",
    "\n",
    "# env = env.unwrapped\n",
    "\n",
    "\n",
    "\n",
    "# import tensorflow as tf\n",
    "# import policy_gradient"
   ]
  },
  {
   "cell_type": "code",
   "execution_count": 6,
   "metadata": {
    "collapsed": true,
    "scrolled": true
   },
   "outputs": [],
   "source": [
    "# # create the tf session\n",
    "# sess = tf.InteractiveSession()\n",
    "\n",
    "# # Input\n",
    "# num_actions=10  # same as # of stocks\n",
    "# Variables=3\n",
    "# obs_dim=num_actions*Variables\n",
    "# NumOfLayers=3\n",
    "# architecture = \"FFNN\" # right now, valid inputs are LSTM and FFNN\n",
    "# LR=\"GD\"\n",
    "# actFunc=\"relu\"\n",
    "# regulizer=\"l2\"\n",
    "# regulizerScale=0.01\n",
    "# avgfilename=\"FFN_GD_relu_2HL_l2.p\"\n",
    "\n",
    "\n",
    "# pg = policy_gradient.PolicyGradient(sess, obs_dim=obs_dim, \n",
    "#                                     num_actions=num_actions,\n",
    "#                                     NumOfLayers=NumOfLayers, \n",
    "#                                     LR=LR,\n",
    "#                                     architecture=architecture,\n",
    "#                                     actFunc=actFunc,\n",
    "#                                     learning_rate=1e-4,\n",
    "#                                     regulizer =regulizer,\n",
    "#                                     regulizerScale=regulizerScale,\n",
    "#                                     avgfilename=avgfilename\n",
    "#                                    )\n",
    "\n",
    "# # and now let's train it and evaluate its progress.  NB: this could take some time...\n",
    "# direc=\"/afs/inf.ed.ac.uk/user/s17/s1793158/mlp3\"\n",
    "# load_model=False\n",
    "# #grads, grads_clipped = pg.get_grads_and_clipping()\n",
    "# '''with tf.Session() as sess:\n",
    "#     sess.run(init)  # actually running the initialization op\n",
    "#     _grads_clipped, _grads = sess.run(\n",
    "#                         [grads_clipped, grads],\n",
    "#                         feed_dict={pg.X: epX, pg._tf_epr: epr, pg._tf_y: epy, pg._tf_x: epx})'''\n",
    "# df,sf = pg.train_model(env, episodes=10000, log_freq=100, load_model=False,model_dir = direc)#, load_model=True)\n"
   ]
  },
  {
   "cell_type": "code",
   "execution_count": 7,
   "metadata": {
    "collapsed": true
   },
   "outputs": [],
   "source": [
    "# import pickle as pkl"
   ]
  },
  {
   "cell_type": "code",
   "execution_count": 8,
   "metadata": {},
   "outputs": [
    {
     "ename": "FileNotFoundError",
     "evalue": "[Errno 2] No such file or directory: 'RNN_GD_relu_l2.p'",
     "output_type": "error",
     "traceback": [
      "\u001b[0;31m---------------------------------------------------------------------------\u001b[0m",
      "\u001b[0;31mFileNotFoundError\u001b[0m                         Traceback (most recent call last)",
      "\u001b[0;32m<ipython-input-8-7eca7819dd05>\u001b[0m in \u001b[0;36m<module>\u001b[0;34m()\u001b[0m\n\u001b[0;32m----> 1\u001b[0;31m \u001b[0mrnn_relu\u001b[0m \u001b[0;34m=\u001b[0m \u001b[0mpkl\u001b[0m\u001b[0;34m.\u001b[0m\u001b[0mload\u001b[0m\u001b[0;34m(\u001b[0m \u001b[0mopen\u001b[0m\u001b[0;34m(\u001b[0m \u001b[0;34m\"RNN_GD_relu_l2.p\"\u001b[0m\u001b[0;34m,\u001b[0m \u001b[0;34m\"rb\"\u001b[0m \u001b[0;34m)\u001b[0m \u001b[0;34m)\u001b[0m\u001b[0;34m\u001b[0m\u001b[0m\n\u001b[0m\u001b[1;32m      2\u001b[0m \u001b[0mrnn_lrelu\u001b[0m \u001b[0;34m=\u001b[0m \u001b[0mpkl\u001b[0m\u001b[0;34m.\u001b[0m\u001b[0mload\u001b[0m\u001b[0;34m(\u001b[0m \u001b[0mopen\u001b[0m\u001b[0;34m(\u001b[0m \u001b[0;34m\"RNN_GD_lrelu_l2.p\"\u001b[0m\u001b[0;34m,\u001b[0m \u001b[0;34m\"rb\"\u001b[0m \u001b[0;34m)\u001b[0m \u001b[0;34m)\u001b[0m\u001b[0;34m\u001b[0m\u001b[0m\n\u001b[1;32m      3\u001b[0m \u001b[0mrnn_elu\u001b[0m \u001b[0;34m=\u001b[0m \u001b[0mpkl\u001b[0m\u001b[0;34m.\u001b[0m\u001b[0mload\u001b[0m\u001b[0;34m(\u001b[0m \u001b[0mopen\u001b[0m\u001b[0;34m(\u001b[0m \u001b[0;34m\"RNN_GD_elu_l2.p\"\u001b[0m\u001b[0;34m,\u001b[0m \u001b[0;34m\"rb\"\u001b[0m \u001b[0;34m)\u001b[0m \u001b[0;34m)\u001b[0m\u001b[0;34m\u001b[0m\u001b[0m\n\u001b[1;32m      4\u001b[0m \u001b[0mrnn_selu\u001b[0m \u001b[0;34m=\u001b[0m \u001b[0mpkl\u001b[0m\u001b[0;34m.\u001b[0m\u001b[0mload\u001b[0m\u001b[0;34m(\u001b[0m \u001b[0mopen\u001b[0m\u001b[0;34m(\u001b[0m \u001b[0;34m\"RRN_GD_selu_l2.p\"\u001b[0m\u001b[0;34m,\u001b[0m \u001b[0;34m\"rb\"\u001b[0m \u001b[0;34m)\u001b[0m \u001b[0;34m)\u001b[0m\u001b[0;34m\u001b[0m\u001b[0m\n\u001b[1;32m      5\u001b[0m \u001b[0mrnn_sig\u001b[0m\u001b[0;34m=\u001b[0m \u001b[0mpkl\u001b[0m\u001b[0;34m.\u001b[0m\u001b[0mload\u001b[0m\u001b[0;34m(\u001b[0m \u001b[0mopen\u001b[0m\u001b[0;34m(\u001b[0m \u001b[0;34m\"RRN_GD_sig_l2.p\"\u001b[0m\u001b[0;34m,\u001b[0m \u001b[0;34m\"rb\"\u001b[0m \u001b[0;34m)\u001b[0m \u001b[0;34m)\u001b[0m\u001b[0;34m\u001b[0m\u001b[0m\n",
      "\u001b[0;31mFileNotFoundError\u001b[0m: [Errno 2] No such file or directory: 'RNN_GD_relu_l2.p'"
     ]
    }
   ],
   "source": [
    "rnn_relu = pkl.load( open( \"RNN_GD_relu_l2.p\", \"rb\" ) )\n",
    "rnn_lrelu = pkl.load( open( \"RNN_GD_lrelu_l2.p\", \"rb\" ) )\n",
    "rnn_elu = pkl.load( open( \"RNN_GD_elu_l2.p\", \"rb\" ) )\n",
    "rnn_selu = pkl.load( open( \"RRN_GD_selu_l2.p\", \"rb\" ) )\n",
    "rnn_sig= pkl.load( open( \"RRN_GD_sig_l2.p\", \"rb\" ) )\n",
    "\n",
    "fnn_sig = pkl.load( open( \"FFN_GD_sig_l2.p\", \"rb\" ) )\n",
    "fnn_lrelu = pkl.load( open( \"FFN_GD_lrelu_l2.p\", \"rb\" ) )\n",
    "fnn_relu = pkl.load( open( \"FFN_GD_relu_l2.p\", \"rb\" ) )\n",
    "fnn_elu = pkl.load( open( \"FFN_GD_elu_l2.p\", \"rb\" ) )\n",
    "fnn_sig = pkl.load( open( \"FFN_GD_sig_l2.p\", \"rb\" ) )"
   ]
  },
  {
   "cell_type": "code",
   "execution_count": null,
   "metadata": {
    "collapsed": true
   },
   "outputs": [],
   "source": [
    "plt.figure(figsize=(20,20))\n",
    "plt.plot(fnn_sig[:500],label=\"relu\")\n",
    "plt.plot(fnn_lrelu[:500],label=\"elu\")\n",
    "plt.plot(fnn_relu[:500],label=\"sig\")\n",
    "plt.plot(fnn_elu[:500],label=\"elu\")\n",
    "plt.plot(fnn_sig[:500],label=\"sig\")\n",
    "plt.legend()\n",
    "plt.ylim((-1,1))\n",
    "print(np.mean(relu),np.mean(elu[:7500]),np.mean(sig))\n",
    "print(np.std(relu),np.std(elu[:7500]),np.std(sig))"
   ]
  },
  {
   "cell_type": "code",
   "execution_count": null,
   "metadata": {
    "collapsed": true
   },
   "outputs": [],
   "source": [
    "plt.figure(figsize=(20,20))\n",
    "plt.plot(rnn_sig[:500],label=\"relu\")\n",
    "plt.plot(rnn_lrelu[:500],label=\"elu\")\n",
    "plt.plot(rnn_relu[:500],label=\"sig\")\n",
    "plt.plot(rnn_elu[:500],label=\"elu\")\n",
    "plt.plot(rnn_sig[:500],label=\"sig\")\n",
    "plt.legend()\n",
    "plt.ylim((-1,1))\n",
    "print(np.mean(relu),np.mean(elu[:7500]),np.mean(sig))\n",
    "print(np.std(relu),np.std(elu[:7500]),np.std(sig))"
   ]
  },
  {
   "cell_type": "markdown",
   "metadata": {},
   "source": [
    "# Testing"
   ]
  },
  {
   "cell_type": "code",
   "execution_count": null,
   "metadata": {
    "collapsed": true
   },
   "outputs": [],
   "source": [
    "# import gym\n",
    "# import numpy as np\n",
    "# import pandas as pd\n",
    "# import matplotlib as mpl\n",
    "# import matplotlib.pyplot as plt\n",
    "# from matplotlib import interactive\n",
    "# interactive(True)\n",
    "# import gym_trading\n",
    "\n",
    "# env1 = gym.make('testing-v0')\n",
    "# #env.time_cost_bps = 0 # \n",
    "\n",
    "# env1 = env1.unwrapped\n",
    "\n",
    "\n",
    "\n",
    "# import tensorflow as tf\n",
    "# import policy_gradient"
   ]
  },
  {
   "cell_type": "code",
   "execution_count": null,
   "metadata": {
    "collapsed": true
   },
   "outputs": [],
   "source": [
    "# # create the tf session\n",
    "# sess = tf.InteractiveSession()\n",
    "\n",
    "# # Input\n",
    "# num_actions=3  # same as # of stocks\n",
    "# Variables=3\n",
    "# obs_dim=num_actions*Variables\n",
    "# NumOfLayers=3\n",
    "# LR=\"Adam\"\n",
    "# actFunc=\"relu\"\n",
    "# regulizer=\"l2\"\n",
    "# regulizerScale=0.01\n",
    "\n",
    "\n",
    "# pg = policy_gradient.PolicyGradient(sess, obs_dim=obs_dim, \n",
    "#                                     num_actions=num_actions,\n",
    "#                                     NumOfLayers=NumOfLayers, \n",
    "#                                     LR=LR,\n",
    "#                                     actFunc=actFunc,\n",
    "#                                     learning_rate=1e-2,\n",
    "#                                     regulizer =regulizer,\n",
    "#                                     regulizerScale=regulizerScale\n",
    "#                                    )\n",
    "\n",
    "# # and now let's train it and evaluate its progress.  NB: this could take some time...\n",
    "# direc=\"/Users/andrewplaate/mlp3/SavedModels/\"\n",
    "# load_model=True\n",
    "# df,sf = pg.test_model(env1, episodes=1, log_freq=100, load_model=load_model,model_dir = direc)#, load_model=True)\n"
   ]
  },
  {
   "cell_type": "markdown",
   "metadata": {},
   "source": [
    "### Results\n",
    "\n",
    "Policy gradients beat the trading game!  That said, it doesn't work every time and it seems, looking at the charts below, as though it's a bit of a lucky thing.  But luck counts in the trading game as in life!\n"
   ]
  },
  {
   "cell_type": "code",
   "execution_count": null,
   "metadata": {
    "collapsed": true
   },
   "outputs": [],
   "source": [
    "# sf['net'] = sf.simror - sf.mktror\n",
    "# #sf.net.plot()\n",
    "# sf.net.expanding().mean().plot()\n",
    "# sf.net.rolling(100).mean().plot()"
   ]
  },
  {
   "cell_type": "code",
   "execution_count": null,
   "metadata": {
    "collapsed": true
   },
   "outputs": [],
   "source": [
    "# sf.net.rolling(100).mean().tail()"
   ]
  }
 ],
 "metadata": {
  "kernelspec": {
   "display_name": "Python 3",
   "language": "python",
   "name": "python3"
  },
  "language_info": {
   "codemirror_mode": {
    "name": "ipython",
    "version": 3
   },
   "file_extension": ".py",
   "mimetype": "text/x-python",
   "name": "python",
   "nbconvert_exporter": "python",
   "pygments_lexer": "ipython3",
   "version": "3.6.2"
  }
 },
 "nbformat": 4,
 "nbformat_minor": 1
}
