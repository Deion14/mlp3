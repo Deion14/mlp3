{
 "cells": [
  {
   "cell_type": "markdown",
   "metadata": {},
   "source": [
    "## TradingEnv-v0\n",
    "\n",
    "### Open AI 'Gym' for reinforcement-learning based trading algorithms\n",
    "\n",
    "This gym implements a very simple trading environment for reinforcement learning.\n",
    "\n",
    "The gym provides daily observations based on real market data pulled from Quandl on, by default, the SPY etf.  An episode is defined as 252 contiguous days sampled from the overall dataset.  Each day is one 'step' within the gym and for each step, the algo has a choice:\n",
    "\n",
    " - SHORT (0)\n",
    " - FLAT (1)\n",
    " - LONG  (2)\n",
    " \n",
    "If you trade, you will be charged, by default, 10 BPS of the size of your trade.  Thus, going from short to long costs twice as much as going from short to/from flat.  Not trading also has a default cost of 1 BPS per step.  Nobody said it would be easy!\n",
    " \n",
    "At the beginning of your episode, you are allocated 1 unit of cash.  This is your starting Net Asset Value (NAV). \n",
    "\n",
    "### Beating the trading game \n",
    "\n",
    "For our purposes, we'll say that beating a buy & hold strategy, on average, over one hundred episodes will notch a win to the proud ai player.  We'll illustrate exactly what that means below.\n",
    "\n",
    "### Let's look at some code using the environment\n"
   ]
  },
  {
   "cell_type": "markdown",
   "metadata": {},
   "source": [
    "###  imports"
   ]
  },
  {
   "cell_type": "code",
   "execution_count": 1,
   "metadata": {},
   "outputs": [],
   "source": [
    "import gym\n",
    "import numpy as np\n",
    "import pandas as pd\n",
    "import matplotlib as mpl\n",
    "import matplotlib.pyplot as plt\n",
    "from matplotlib import interactive\n",
    "interactive(True)\n",
    "import gym_trading\n"
   ]
  },
  {
   "cell_type": "markdown",
   "metadata": {},
   "source": [
    "### create the environment\n",
    "\n",
    "This may take a moment as we are pulling historical data from quandl."
   ]
  },
  {
   "cell_type": "code",
   "execution_count": 2,
   "metadata": {},
   "outputs": [
    {
     "name": "stdout",
     "output_type": "stream",
     "text": [
      "\u001b[33mWARN: gym.spaces.Box autodetected dtype as <class 'numpy.float32'>. Please provide explicit dtype.\u001b[0m\n",
      "\u001b[33mWARN: Environment '<class 'gym_trading.envs.trading_env.TradingEnv'>' has deprecated methods. Compatibility code invoked.\u001b[0m\n"
     ]
    }
   ],
   "source": [
    "env = gym.make('trading-v0')\n",
    "#env.time_cost_bps = 0 # \n"
   ]
  },
  {
   "cell_type": "markdown",
   "metadata": {},
   "source": [
    "### the trading model\n",
    "\n",
    "Each time step is a day.  Each episode is 252 trading days - a year.  Each day, we can choose to be short (0), flat (1) or long (2) the single instrument in our trading universe.\n",
    "\n",
    "Let's run through a day and stay flat."
   ]
  },
  {
   "cell_type": "code",
   "execution_count": 3,
   "metadata": {},
   "outputs": [
    {
     "data": {
      "image/png": "[encoded data removed]",
      "text/plain": [
       "<matplotlib.figure.Figure at 0x1120d0c50>"
      ]
     },
     "metadata": {},
     "output_type": "display_data"
    }
   ],
   "source": [
    "observation = env.reset()\n",
    "done = False\n",
    "navs = []\n",
    "while not done:\n",
    "    action = 1 # stay flat\n",
    "    observation, reward, done, info = env.step(action)\n",
    "    navs.append(info['nav'])\n",
    "    if done:\n",
    "        #print 'Annualized return: ',navs[len(navs)-1]-1\n",
    "        pd.DataFrame(navs).plot()\n"
   ]
  },
  {
   "cell_type": "markdown",
   "metadata": {},
   "source": [
    "### Note that you are charged just for playing - to the tune of 1 basis point per day!\n"
   ]
  },
  {
   "cell_type": "markdown",
   "metadata": {},
   "source": [
    "### Rendering\n",
    "\n",
    "For now, no rendering has been implemented for this gym, but with each step, the following datum are provided which you can easily graph and otherwise visualize as we see above with the NAV:\n",
    "\n",
    " - pnl - how much did we make or lose between yesterday and today?\n",
    " - costs  - how much did we pay in costs today\n",
    " - nav    - our current nav\n",
    " "
   ]
  },
  {
   "cell_type": "markdown",
   "metadata": {},
   "source": [
    "## utility methods: running strategies once or repeatedly\n",
    "\n",
    "Although the gym can be 'exercised' directly as seen above, we've also written utility methods which allow for the running of a strategy once or over many episodes, facilitating training or other sorts of analysis.\n",
    "\n",
    "To utilize these methods, strategies should be exposed as a function or lambda with the following signature:\n",
    "\n",
    "`Action a = strategy( observation, environment )`\n",
    "    \n",
    "Below, we define some simple strategies and look briefly at their behavior to better understand the trading gym. "
   ]
  },
  {
   "cell_type": "code",
   "execution_count": 4,
   "metadata": {},
   "outputs": [
    {
     "name": "stdout",
     "output_type": "stream",
     "text": [
      "   action   bod_nav   mkt_nav  mkt_return  sim_return  position   costs  trade\n",
      "0     2.0  1.000000  1.000000   -0.018933   -0.001100       1.0  0.0011    1.0\n",
      "1     2.0  0.998900  0.981067    0.008772    0.008672       1.0  0.0001    0.0\n",
      "2     2.0  1.007562  0.989673    0.003478    0.003378       1.0  0.0001    0.0\n",
      "3     2.0  1.010966  0.993115   -0.010399   -0.010499       1.0  0.0001    0.0\n",
      "4     2.0  1.000352  0.982788   -0.001751   -0.001851       1.0  0.0001    0.0\n"
     ]
    },
    {
     "data": {
      "text/plain": [
       "<matplotlib.axes._subplots.AxesSubplot at 0x11239bc50>"
      ]
     },
     "execution_count": 4,
     "metadata": {},
     "output_type": "execute_result"
    },
    {
     "data": {
      "image/png": "[encoded data removed]",
      "text/plain": [
       "<matplotlib.figure.Figure at 0x11239b6d8>"
      ]
     },
     "metadata": {},
     "output_type": "display_data"
    }
   ],
   "source": [
    "import trading_env as te\n",
    "\n",
    "stayflat     = lambda o,e: 1   # stand pat\n",
    "buyandhold   = lambda o,e: 2   # buy on day #1 and hold\n",
    "randomtrader = lambda o,e: e.action_space.sample() # retail trader\n",
    "\n",
    "# to run singly, we call run_strat.  we are returned a dataframe containing \n",
    "#  all steps in the sim.\n",
    "env = env.unwrapped\n",
    "bhdf = env.run_strat(buyandhold)\n",
    "\n",
    "print(bhdf.head())\n",
    "\n",
    "# we can easily plot our nav in time:\n",
    "bhdf.bod_nav.plot(title='buy & hold nav')\n"
   ]
  },
  {
   "cell_type": "markdown",
   "metadata": {},
   "source": [
    "### running the same strategy multiple times will likely yield different results as underlying data changes"
   ]
  },
  {
   "cell_type": "code",
   "execution_count": 5,
   "metadata": {},
   "outputs": [
    {
     "data": {
      "text/plain": [
       "<matplotlib.axes._subplots.AxesSubplot at 0x1123de320>"
      ]
     },
     "execution_count": 5,
     "metadata": {},
     "output_type": "execute_result"
    },
    {
     "data": {
      "image/png": "[encoded data removed]",
      "text/plain": [
       "<matplotlib.figure.Figure at 0x1122c4278>"
      ]
     },
     "metadata": {},
     "output_type": "display_data"
    }
   ],
   "source": [
    "env.run_strat(buyandhold).bod_nav.plot(title='same strat, different results')\n",
    "env.run_strat(buyandhold).bod_nav.plot()\n",
    "env.run_strat(buyandhold).bod_nav.plot()"
   ]
  },
  {
   "cell_type": "markdown",
   "metadata": {},
   "source": [
    "### comparing the buyandhold and random traders"
   ]
  },
  {
   "cell_type": "code",
   "execution_count": 6,
   "metadata": {},
   "outputs": [
    {
     "data": {
      "text/html": [
       "<div>\n",
       "<style scoped>\n",
       "    .dataframe tbody tr th:only-of-type {\n",
       "        vertical-align: middle;\n",
       "    }\n",
       "\n",
       "    .dataframe tbody tr th {\n",
       "        vertical-align: top;\n",
       "    }\n",
       "\n",
       "    .dataframe thead th {\n",
       "        text-align: right;\n",
       "    }\n",
       "</style>\n",
       "<table border=\"1\" class=\"dataframe\">\n",
       "  <thead>\n",
       "    <tr style=\"text-align: right;\">\n",
       "      <th></th>\n",
       "      <th>buyhold</th>\n",
       "      <th>random</th>\n",
       "    </tr>\n",
       "  </thead>\n",
       "  <tbody>\n",
       "    <tr>\n",
       "      <th>action</th>\n",
       "      <td>2.000000</td>\n",
       "      <td>0.997063</td>\n",
       "    </tr>\n",
       "    <tr>\n",
       "      <th>bod_nav</th>\n",
       "      <td>1.033394</td>\n",
       "      <td>0.884085</td>\n",
       "    </tr>\n",
       "    <tr>\n",
       "      <th>mkt_nav</th>\n",
       "      <td>1.050317</td>\n",
       "      <td>1.092891</td>\n",
       "    </tr>\n",
       "    <tr>\n",
       "      <th>mkt_return</th>\n",
       "      <td>0.000536</td>\n",
       "      <td>0.000807</td>\n",
       "    </tr>\n",
       "    <tr>\n",
       "      <th>sim_return</th>\n",
       "      <td>0.000419</td>\n",
       "      <td>-0.001033</td>\n",
       "    </tr>\n",
       "    <tr>\n",
       "      <th>position</th>\n",
       "      <td>1.000000</td>\n",
       "      <td>-0.002937</td>\n",
       "    </tr>\n",
       "    <tr>\n",
       "      <th>costs</th>\n",
       "      <td>0.000104</td>\n",
       "      <td>0.000987</td>\n",
       "    </tr>\n",
       "    <tr>\n",
       "      <th>trade</th>\n",
       "      <td>0.003968</td>\n",
       "      <td>0.000159</td>\n",
       "    </tr>\n",
       "  </tbody>\n",
       "</table>\n",
       "</div>"
      ],
      "text/plain": [
       "             buyhold    random\n",
       "action      2.000000  0.997063\n",
       "bod_nav     1.033394  0.884085\n",
       "mkt_nav     1.050317  1.092891\n",
       "mkt_return  0.000536  0.000807\n",
       "sim_return  0.000419 -0.001033\n",
       "position    1.000000 -0.002937\n",
       "costs       0.000104  0.000987\n",
       "trade       0.003968  0.000159"
      ]
     },
     "execution_count": 6,
     "metadata": {},
     "output_type": "execute_result"
    }
   ],
   "source": [
    "# running a strategy multiple times should yield insights \n",
    "#   into its expected behavior or give it oppty to learn\n",
    "bhdf = env.run_strats(buyandhold,100)\n",
    "rdf = env.run_strats(randomtrader,100)\n",
    "\n",
    "comparo = pd.DataFrame({'buyhold':bhdf.mean(),\n",
    "                        'random': rdf.mean()})\n",
    "comparo"
   ]
  },
  {
   "cell_type": "markdown",
   "metadata": {
    "scrolled": true
   },
   "source": [
    "## Object of the game\n",
    "\n",
    "From the above examples, we can see that buying and holding will, over the long run, give you the market return with low costs.\n",
    "\n",
    "Randomly trading will instead destroy value rather quickly as costs overwhelm.\n",
    "\n",
    "### So, what does it mean to win the trading game?  \n",
    "\n",
    "For our purposes, we'll say that beating a buy & hold strategy, on average, over one hundred episodes will notch a win to the proud ai player.\n",
    "\n",
    "To support this, the trading environment maintains the *mkt_return* which can be compared with the *sim_return*.\n",
    "\n",
    "Note that the *mkt_return* is frictionless while the *sim_return* incurs both trading costs and the decay cost of 1 basis point per day, so overcoming the hurdle we've set here should be challenging.\n"
   ]
  },
  {
   "cell_type": "markdown",
   "metadata": {},
   "source": [
    "### Playing the game: purloined policy gradients\n",
    "\n",
    "I've taken and adapted (see [code](policy_gradient.py) for details) a policy gradient implementation based on tensorflow to try to play the single-instrument trading game.  Let's see how it does."
   ]
  },
  {
   "cell_type": "code",
   "execution_count": 7,
   "metadata": {},
   "outputs": [
    {
     "name": "stderr",
     "output_type": "stream",
     "text": [
      "/Users/colinsmith/miniconda3/envs/personal/lib/python3.6/importlib/_bootstrap.py:219: RuntimeWarning: compiletime version 3.5 of module 'tensorflow.python.framework.fast_tensor_util' does not match runtime version 3.6\n",
      "  return f(*args, **kwds)\n",
      "INFO:policy_gradient:policy_gradient logger started.\n"
     ]
    }
   ],
   "source": [
    "import tensorflow as tf\n",
    "import policy_gradient"
   ]
  },
  {
   "cell_type": "code",
   "execution_count": 8,
   "metadata": {},
   "outputs": [
    {
     "name": "stderr",
     "output_type": "stream",
     "text": [
      "INFO:policy_gradient:year #     0, mean reward:   0.0006, sim ret:   0.0320, mkt ret:  -0.3905, net:   0.4225\n",
      "INFO:policy_gradient:year #   100, mean reward:   0.0663, sim ret:   0.4581, mkt ret:   0.5076, net:  -0.0494\n",
      "INFO:policy_gradient:year #   200, mean reward:   0.0718, sim ret:   0.0864, mkt ret:   0.0823, net:   0.0041\n",
      "INFO:policy_gradient:year #   300, mean reward:   0.1426, sim ret:   0.1188, mkt ret:   0.1436, net:  -0.0249\n",
      "INFO:policy_gradient:year #   400, mean reward:   0.1205, sim ret:  -0.0573, mkt ret:  -0.0006, net:  -0.0567\n",
      "INFO:policy_gradient:year #   500, mean reward:   0.1411, sim ret:  -0.1806, mkt ret:  -0.1409, net:  -0.0397\n",
      "INFO:policy_gradient:year #   600, mean reward:   0.1427, sim ret:   0.0630, mkt ret:   0.0881, net:  -0.0251\n",
      "INFO:policy_gradient:year #   700, mean reward:   0.1274, sim ret:   0.3737, mkt ret:   0.4343, net:  -0.0606\n",
      "INFO:policy_gradient:year #   800, mean reward:   0.1318, sim ret:  -0.1249, mkt ret:  -0.0722, net:  -0.0527\n",
      "INFO:policy_gradient:year #   900, mean reward:   0.1264, sim ret:   0.1231, mkt ret:  -0.0668, net:   0.1899\n",
      "INFO:policy_gradient:year #  1000, mean reward:   0.1326, sim ret:  -0.3902, mkt ret:  -0.3761, net:  -0.0141\n",
      "INFO:policy_gradient:year #  1100, mean reward:   0.1498, sim ret:   0.1713, mkt ret:   0.2039, net:  -0.0327\n",
      "INFO:policy_gradient:year #  1200, mean reward:   0.1557, sim ret:   0.0151, mkt ret:   0.0469, net:  -0.0317\n",
      "INFO:policy_gradient:year #  1300, mean reward:   0.1828, sim ret:  -0.3878, mkt ret:  -0.3735, net:  -0.0143\n",
      "INFO:policy_gradient:year #  1400, mean reward:   0.1361, sim ret:   0.0341, mkt ret:   0.0819, net:  -0.0478\n",
      "INFO:policy_gradient:year #  1500, mean reward:   0.1689, sim ret:  -0.1817, mkt ret:  -0.1601, net:  -0.0217\n",
      "INFO:policy_gradient:year #  1600, mean reward:   0.1746, sim ret:   0.4208, mkt ret:   0.4711, net:  -0.0503\n",
      "INFO:policy_gradient:year #  1700, mean reward:   0.1494, sim ret:  -0.2271, mkt ret:  -0.2085, net:  -0.0186\n",
      "INFO:policy_gradient:year #  1800, mean reward:   0.1352, sim ret:   0.4584, mkt ret:   0.5031, net:  -0.0446\n",
      "INFO:policy_gradient:year #  1900, mean reward:   0.1625, sim ret:  -0.1461, mkt ret:  -0.1224, net:  -0.0237\n",
      "INFO:policy_gradient:year #  2000, mean reward:   0.1428, sim ret:   0.1016, mkt ret:   0.1243, net:  -0.0227\n",
      "INFO:policy_gradient:year #  2100, mean reward:   0.1484, sim ret:   0.3078, mkt ret:   0.3325, net:  -0.0247\n",
      "INFO:policy_gradient:year #  2200, mean reward:   0.1471, sim ret:   1.0741, mkt ret:   1.3743, net:  -0.3001\n",
      "INFO:policy_gradient:year #  2300, mean reward:   0.1464, sim ret:   0.4574, mkt ret:   0.4923, net:  -0.0350\n",
      "INFO:policy_gradient:year #  2400, mean reward:   0.1417, sim ret:   0.3614, mkt ret:   0.4448, net:  -0.0834\n",
      "INFO:policy_gradient:year #  2500, mean reward:   0.1033, sim ret:  -0.1647, mkt ret:  -0.1588, net:  -0.0059\n",
      "INFO:policy_gradient:year #  2600, mean reward:   0.1201, sim ret:  -0.1514, mkt ret:  -0.1477, net:  -0.0036\n",
      "INFO:policy_gradient:year #  2700, mean reward:   0.1115, sim ret:   0.3253, mkt ret:   0.3621, net:  -0.0369\n",
      "INFO:policy_gradient:year #  2800, mean reward:   0.1308, sim ret:  -0.3379, mkt ret:  -0.3129, net:  -0.0250\n",
      "INFO:policy_gradient:year #  2900, mean reward:   0.1083, sim ret:  -0.0530, mkt ret:  -0.0014, net:  -0.0517\n",
      "INFO:policy_gradient:year #  3000, mean reward:   0.1687, sim ret:   0.3139, mkt ret:   0.3378, net:  -0.0239\n",
      "INFO:policy_gradient:year #  3100, mean reward:   0.1337, sim ret:  -0.4127, mkt ret:  -0.3942, net:  -0.0186\n",
      "INFO:policy_gradient:year #  3200, mean reward:   0.1478, sim ret:  -0.1266, mkt ret:  -0.1006, net:  -0.0259\n",
      "INFO:policy_gradient:year #  3300, mean reward:   0.1391, sim ret:  -0.1189, mkt ret:  -0.1135, net:  -0.0055\n",
      "INFO:policy_gradient:year #  3400, mean reward:   0.1186, sim ret:   0.1016, mkt ret:   0.1243, net:  -0.0227\n",
      "INFO:policy_gradient:year #  3500, mean reward:   0.1530, sim ret:  -0.1986, mkt ret:  -0.1786, net:  -0.0200\n",
      "INFO:policy_gradient:year #  3600, mean reward:   0.1367, sim ret:   0.4237, mkt ret:   0.4479, net:  -0.0242\n",
      "INFO:policy_gradient:year #  3700, mean reward:   0.0613, sim ret:   0.2532, mkt ret:   0.1766, net:   0.0766\n",
      "INFO:policy_gradient:year #  3800, mean reward:   0.0691, sim ret:   0.0498, mkt ret:   0.1137, net:  -0.0639\n",
      "INFO:policy_gradient:year #  3900, mean reward:   0.0858, sim ret:   0.3374, mkt ret:   0.2011, net:   0.1363\n",
      "INFO:policy_gradient:year #  4000, mean reward:   0.1196, sim ret:   0.4893, mkt ret:   0.4930, net:  -0.0037\n",
      "INFO:policy_gradient:year #  4100, mean reward:   0.1208, sim ret:   0.4368, mkt ret:   0.5644, net:  -0.1277\n",
      "INFO:policy_gradient:year #  4200, mean reward:   0.1458, sim ret:  -0.0558, mkt ret:  -0.0380, net:  -0.0178\n",
      "INFO:policy_gradient:year #  4300, mean reward:   0.1507, sim ret:  -0.3353, mkt ret:  -0.3187, net:  -0.0166\n",
      "INFO:policy_gradient:year #  4400, mean reward:   0.1559, sim ret:   0.3607, mkt ret:   0.4073, net:  -0.0465\n",
      "INFO:policy_gradient:year #  4500, mean reward:   0.1328, sim ret:   0.4134, mkt ret:   0.5757, net:  -0.1623\n",
      "INFO:policy_gradient:year #  4600, mean reward:   0.1601, sim ret:  -0.1052, mkt ret:  -0.0908, net:  -0.0144\n",
      "INFO:policy_gradient:year #  4700, mean reward:   0.1276, sim ret:   0.7342, mkt ret:   0.7043, net:   0.0300\n",
      "INFO:policy_gradient:year #  4800, mean reward:   0.1253, sim ret:  -0.0527, mkt ret:   0.2539, net:  -0.3066\n",
      "INFO:policy_gradient:year #  4900, mean reward:   0.1011, sim ret:  -0.2140, mkt ret:  -0.1981, net:  -0.0159\n",
      "INFO:policy_gradient:year #  5000, mean reward:   0.0824, sim ret:   0.1321, mkt ret:   0.1394, net:  -0.0073\n",
      "INFO:policy_gradient:year #  5100, mean reward:   0.0907, sim ret:  -0.0646, mkt ret:  -0.0203, net:  -0.0443\n",
      "INFO:policy_gradient:year #  5200, mean reward:   0.1380, sim ret:  -0.2889, mkt ret:  -0.2226, net:  -0.0663\n",
      "INFO:policy_gradient:year #  5300, mean reward:   0.1777, sim ret:   0.0271, mkt ret:   0.0950, net:  -0.0680\n",
      "INFO:policy_gradient:Congratulations, Warren Buffet!  You won the trading game.\n"
     ]
    }
   ],
   "source": [
    "# create the tf session\n",
    "sess = tf.InteractiveSession()\n",
    "\n",
    "# create policygradient\n",
    "pg = policy_gradient.PolicyGradient(sess, obs_dim=5, num_actions=3, learning_rate=1e-2 )\n",
    "\n",
    "# and now let's train it and evaluate its progress.  NB: this could take some time...\n",
    "df,sf = pg.train_model(env, episodes=25001, log_freq=100)#, load_model=True)\n"
   ]
  },
  {
   "cell_type": "markdown",
   "metadata": {},
   "source": [
    "### Results\n",
    "\n",
    "Policy gradients beat the trading game!  That said, it doesn't work every time and it seems, looking at the charts below, as though it's a bit of a lucky thing.  But luck counts in the trading game as in life!\n"
   ]
  },
  {
   "cell_type": "code",
   "execution_count": 9,
   "metadata": {},
   "outputs": [
    {
     "data": {
      "text/plain": [
       "<matplotlib.axes._subplots.AxesSubplot at 0x1828223ba8>"
      ]
     },
     "execution_count": 9,
     "metadata": {},
     "output_type": "execute_result"
    },
    {
     "data": {
      "image/png": "[encoded data removed]",
      "text/plain": [
       "<matplotlib.figure.Figure at 0x11dbc86a0>"
      ]
     },
     "metadata": {},
     "output_type": "display_data"
    }
   ],
   "source": [
    "sf['net'] = sf.simror - sf.mktror\n",
    "#sf.net.plot()\n",
    "sf.net.expanding().mean().plot()\n",
    "sf.net.rolling(100).mean().plot()"
   ]
  },
  {
   "cell_type": "code",
   "execution_count": 10,
   "metadata": {},
   "outputs": [
    {
     "data": {
      "text/plain": [
       "24996    1.931788e-16\n",
       "24997    1.931788e-16\n",
       "24998    1.931788e-16\n",
       "24999    1.931788e-16\n",
       "25000    1.931788e-16\n",
       "Name: net, dtype: float64"
      ]
     },
     "execution_count": 10,
     "metadata": {},
     "output_type": "execute_result"
    }
   ],
   "source": [
    "sf.net.rolling(100).mean().tail()"
   ]
  }
 ],
 "metadata": {
  "kernelspec": {
   "display_name": "Python 3",
   "language": "python",
   "name": "python3"
  },
  "language_info": {
   "codemirror_mode": {
    "name": "ipython",
    "version": 3
   },
   "file_extension": ".py",
   "mimetype": "text/x-python",
   "name": "python",
   "nbconvert_exporter": "python",
   "pygments_lexer": "ipython3",
   "version": "3.6.4"
  }
 },
 "nbformat": 4,
 "nbformat_minor": 1
}
