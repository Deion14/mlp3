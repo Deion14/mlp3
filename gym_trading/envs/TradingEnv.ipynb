{
 "cells": [
  {
   "cell_type": "markdown",
   "metadata": {},
   "source": [
    "###  Training\n"
   ]
  },
  {
   "cell_type": "code",
   "execution_count": 2,
   "metadata": {
    "scrolled": true
   },
   "outputs": [
    {
     "ename": "IndentationError",
     "evalue": "unexpected indent (trading_env.py, line 100)",
     "output_type": "error",
     "traceback": [
      "Traceback \u001b[0;36m(most recent call last)\u001b[0m:\n",
      "  File \u001b[1;32m\"/Users/andrewplaate/miniconda3/envs/mlp/lib/python3.6/site-packages/IPython/core/interactiveshell.py\"\u001b[0m, line \u001b[1;32m2862\u001b[0m, in \u001b[1;35mrun_code\u001b[0m\n    exec(code_obj, self.user_global_ns, self.user_ns)\n",
      "  File \u001b[1;32m\"<ipython-input-2-781810ba7be7>\"\u001b[0m, line \u001b[1;32m10\u001b[0m, in \u001b[1;35m<module>\u001b[0m\n    env = gym.make('trading-v0')\n",
      "  File \u001b[1;32m\"/Users/andrewplaate/miniconda3/envs/mlp/lib/python3.6/site-packages/gym/envs/registration.py\"\u001b[0m, line \u001b[1;32m163\u001b[0m, in \u001b[1;35mmake\u001b[0m\n    return registry.make(id)\n",
      "  File \u001b[1;32m\"/Users/andrewplaate/miniconda3/envs/mlp/lib/python3.6/site-packages/gym/envs/registration.py\"\u001b[0m, line \u001b[1;32m119\u001b[0m, in \u001b[1;35mmake\u001b[0m\n    env = spec.make()\n",
      "  File \u001b[1;32m\"/Users/andrewplaate/miniconda3/envs/mlp/lib/python3.6/site-packages/gym/envs/registration.py\"\u001b[0m, line \u001b[1;32m85\u001b[0m, in \u001b[1;35mmake\u001b[0m\n    cls = load(self._entry_point)\n",
      "  File \u001b[1;32m\"/Users/andrewplaate/miniconda3/envs/mlp/lib/python3.6/site-packages/gym/envs/registration.py\"\u001b[0m, line \u001b[1;32m14\u001b[0m, in \u001b[1;35mload\u001b[0m\n    result = entry_point.load(False)\n",
      "  File \u001b[1;32m\"/Users/andrewplaate/miniconda3/envs/mlp/lib/python3.6/site-packages/pkg_resources/__init__.py\"\u001b[0m, line \u001b[1;32m2341\u001b[0m, in \u001b[1;35mload\u001b[0m\n    return self.resolve()\n",
      "  File \u001b[1;32m\"/Users/andrewplaate/miniconda3/envs/mlp/lib/python3.6/site-packages/pkg_resources/__init__.py\"\u001b[0m, line \u001b[1;32m2347\u001b[0m, in \u001b[1;35mresolve\u001b[0m\n    module = __import__(self.module_name, fromlist=['__name__'], level=0)\n",
      "\u001b[0;36m  File \u001b[0;32m\"/Users/andrewplaate/mlp3/gym_trading/envs/__init__.py\"\u001b[0;36m, line \u001b[0;32m1\u001b[0;36m, in \u001b[0;35m<module>\u001b[0;36m\u001b[0m\n\u001b[0;31m    from gym_trading.envs.trading_env import TradingEnv\u001b[0m\n",
      "\u001b[0;36m  File \u001b[0;32m\"/Users/andrewplaate/mlp3/gym_trading/envs/trading_env.py\"\u001b[0;36m, line \u001b[0;32m100\u001b[0m\n\u001b[0;31m    Stocks=['GE', 'AMD', 'F', 'AAPL', 'TWTR']\u001b[0m\n\u001b[0m    ^\u001b[0m\n\u001b[0;31mIndentationError\u001b[0m\u001b[0;31m:\u001b[0m unexpected indent\n"
     ]
    }
   ],
   "source": [
    "import gym\n",
    "import numpy as np\n",
    "import pandas as pd\n",
    "import matplotlib as mpl\n",
    "import matplotlib.pyplot as plt\n",
    "from matplotlib import interactive\n",
    "interactive(True)\n",
    "import gym_trading\n",
    "\n",
    "env = gym.make('trading-v0')\n",
    "#env.time_cost_bps = 0 # \n",
    "\n",
    "env = env.unwrapped\n",
    "\n",
    "\n",
    "\n",
    "import tensorflow as tf\n",
    "import policy_gradient"
   ]
  },
  {
   "cell_type": "code",
   "execution_count": null,
   "metadata": {
    "scrolled": true
   },
   "outputs": [],
   "source": [
    "# create the tf session\n",
    "sess = tf.InteractiveSession()\n",
    "\n",
    "# Input\n",
    "num_actions=3  # same as # of stocks\n",
    "Variables=3\n",
    "obs_dim=num_actions*Variables\n",
    "NumOfLayers=3\n",
    "architecture = \"FFNN\"#\"LSTM\" # right now, valid inputs are LSTM and FFNN\n",
    "LR=\"Adam\"\n",
    "actFunc=\"relu\"\n",
    "regulizer=\"l2\"\n",
    "regulizerScale=0.01\n",
    "\n",
    "\n",
    "pg = policy_gradient.PolicyGradient(sess, obs_dim=obs_dim, \n",
    "                                    num_actions=num_actions,\n",
    "                                    NumOfLayers=NumOfLayers, \n",
    "                                    LR=LR,\n",
    "                                    architecture=architecture,\n",
    "                                    actFunc=actFunc,\n",
    "                                    learning_rate=1e-2,\n",
    "                                    regulizer =regulizer,\n",
    "                                    regulizerScale=regulizerScale\n",
    "                                   )\n",
    "\n",
    "# and now let's train it and evaluate its progress.  NB: this could take some time...\n",
    "direc=\"/Users/colinsmith/mlp3/\"\n",
    "load_model=True\n",
    "df,sf = pg.train_model(env, episodes=25001, log_freq=100, load_model=False,model_dir = direc)#, load_model=True)\n"
   ]
  },
  {
   "cell_type": "markdown",
   "metadata": {},
   "source": [
    "# Testing"
   ]
  },
  {
   "cell_type": "code",
   "execution_count": null,
   "metadata": {},
   "outputs": [],
   "source": [
    "import gym\n",
    "import numpy as np\n",
    "import pandas as pd\n",
    "import matplotlib as mpl\n",
    "import matplotlib.pyplot as plt\n",
    "from matplotlib import interactive\n",
    "interactive(True)\n",
    "import gym_trading\n",
    "\n",
    "env1 = gym.make('testing-v0')\n",
    "#env.time_cost_bps = 0 # \n",
    "\n",
    "env1 = env1.unwrapped\n",
    "\n",
    "\n",
    "\n",
    "import tensorflow as tf\n",
    "import policy_gradient"
   ]
  },
  {
   "cell_type": "code",
   "execution_count": null,
   "metadata": {},
   "outputs": [],
   "source": [
    "# create the tf session\n",
    "sess = tf.InteractiveSession()\n",
    "\n",
    "# Input\n",
    "num_actions=3  # same as # of stocks\n",
    "Variables=3\n",
    "obs_dim=num_actions*Variables\n",
    "NumOfLayers=3\n",
    "LR=\"Adam\"\n",
    "actFunc=\"relu\"\n",
    "regulizer=\"l2\"\n",
    "regulizerScale=0.01\n",
    "\n",
    "\n",
    "pg = policy_gradient.PolicyGradient(sess, obs_dim=obs_dim, \n",
    "                                    num_actions=num_actions,\n",
    "                                    NumOfLayers=NumOfLayers, \n",
    "                                    LR=LR,\n",
    "                                    actFunc=actFunc,\n",
    "                                    learning_rate=1e-2,\n",
    "                                    regulizer =regulizer,\n",
    "                                    regulizerScale=regulizerScale\n",
    "                                   )\n",
    "\n",
    "# and now let's train it and evaluate its progress.  NB: this could take some time...\n",
    "direc=\"/Users/andrewplaate/mlp3/SavedModels/\"\n",
    "load_model=True\n",
    "df,sf = pg.test_model(env1, episodes=1, log_freq=100, load_model=load_model,model_dir = direc)#, load_model=True)\n"
   ]
  },
  {
   "cell_type": "markdown",
   "metadata": {},
   "source": [
    "### Results\n",
    "\n",
    "Policy gradients beat the trading game!  That said, it doesn't work every time and it seems, looking at the charts below, as though it's a bit of a lucky thing.  But luck counts in the trading game as in life!\n"
   ]
  },
  {
   "cell_type": "code",
   "execution_count": null,
   "metadata": {
    "collapsed": true
   },
   "outputs": [],
   "source": [
    "sf['net'] = sf.simror - sf.mktror\n",
    "#sf.net.plot()\n",
    "sf.net.expanding().mean().plot()\n",
    "sf.net.rolling(100).mean().plot()"
   ]
  },
  {
   "cell_type": "code",
   "execution_count": null,
   "metadata": {
    "collapsed": true
   },
   "outputs": [],
   "source": [
    "sf.net.rolling(100).mean().tail()"
   ]
  }
 ],
 "metadata": {
  "kernelspec": {
   "display_name": "Python 3",
   "language": "python",
   "name": "python3"
  },
  "language_info": {
   "codemirror_mode": {
    "name": "ipython",
    "version": 3
   },
   "file_extension": ".py",
   "mimetype": "text/x-python",
   "name": "python",
   "nbconvert_exporter": "python",
   "pygments_lexer": "ipython3",
   "version": "3.6.2"
  }
 },
 "nbformat": 4,
 "nbformat_minor": 1
}
